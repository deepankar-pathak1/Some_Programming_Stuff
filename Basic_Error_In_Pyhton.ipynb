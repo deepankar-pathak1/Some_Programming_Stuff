{
  "nbformat": 4,
  "nbformat_minor": 0,
  "metadata": {
    "colab": {
      "name": "Basic_Error_In_Pyhton.ipynb",
      "provenance": [],
      "authorship_tag": "ABX9TyOBtGH7SXukTREiYJWu8D2R",
      "include_colab_link": true
    },
    "kernelspec": {
      "name": "python3",
      "display_name": "Python 3"
    }
  },
  "cells": [
    {
      "cell_type": "markdown",
      "metadata": {
        "id": "view-in-github",
        "colab_type": "text"
      },
      "source": [
        "<a href=\"https://colab.research.google.com/github/deepankar-pathak1/Some_Programming_Stuff/blob/main/Basic_Error_In_Pyhton.ipynb\" target=\"_parent\"><img src=\"https://colab.research.google.com/assets/colab-badge.svg\" alt=\"Open In Colab\"/></a>"
      ]
    },
    {
      "cell_type": "code",
      "metadata": {
        "id": "ShJu3d3aWDzL"
      },
      "source": [
        "import numpy as np"
      ],
      "execution_count": 1,
      "outputs": []
    },
    {
      "cell_type": "code",
      "metadata": {
        "colab": {
          "base_uri": "https://localhost:8080/"
        },
        "id": "fphL1sbuWM7T",
        "outputId": "ef4b142b-910d-4bb9-c47e-34d0891e28fb"
      },
      "source": [
        "a = np.random.rand(3,2)\r\n",
        "b = np.random.rand(3,2)\r\n",
        "print(a)\r\n",
        "print(\"****\")\r\n",
        "print(b)"
      ],
      "execution_count": 2,
      "outputs": [
        {
          "output_type": "stream",
          "text": [
            "[[0.59942981 0.28111277]\n",
            " [0.76428936 0.40917965]\n",
            " [0.22741257 0.49110492]]\n",
            "****\n",
            "[[0.42877541 0.44097256]\n",
            " [0.53604386 0.51266674]\n",
            " [0.03193599 0.17126687]]\n"
          ],
          "name": "stdout"
        }
      ]
    },
    {
      "cell_type": "code",
      "metadata": {
        "id": "OnqIFzNZWRiQ"
      },
      "source": [
        "# x = []\r\n",
        "# for i in a:\r\n",
        "#   for j in i:\r\n",
        "#     x.append(j)\r\n",
        "# print(x)\r\n",
        "\r\n",
        "# y = []\r\n",
        "\r\n",
        "# for k in b:\r\n",
        "#   for l in k:\r\n",
        "#     y.append(l)\r\n",
        "\r\n",
        "# print(y)\r\n",
        "\r\n"
      ],
      "execution_count": 3,
      "outputs": []
    },
    {
      "cell_type": "code",
      "metadata": {
        "id": "6rqCWpTNWSae",
        "colab": {
          "base_uri": "https://localhost:8080/"
        },
        "outputId": "28e6043c-6e9f-4407-cb1f-524ec055b4c4"
      },
      "source": [
        "# Shape \r\n",
        "a.shape # It means that we are calling an attribute from a which is shape"
      ],
      "execution_count": 4,
      "outputs": [
        {
          "output_type": "execute_result",
          "data": {
            "text/plain": [
              "(3, 2)"
            ]
          },
          "metadata": {
            "tags": []
          },
          "execution_count": 4
        }
      ]
    },
    {
      "cell_type": "code",
      "metadata": {
        "id": "nxKOyWEVewbx"
      },
      "source": [
        "# If we do This :- It will generate an error because shape is not a function ---> a.shape()\r\n",
        "# a.shape() # 'tuple' object is not callable"
      ],
      "execution_count": 5,
      "outputs": []
    },
    {
      "cell_type": "code",
      "metadata": {
        "id": "dxW-hz20fB8P"
      },
      "source": [
        "# Type\r\n",
        "# print(a.type()) # Genrate an Error 'numpy.ndarray' object has no attribute 'type' because a does not have an attribute called type\r\n",
        "# Read Referance --> https://numpy.org/doc/stable/reference/generated/numpy.ndarray.html"
      ],
      "execution_count": 6,
      "outputs": []
    },
    {
      "cell_type": "code",
      "metadata": {
        "colab": {
          "base_uri": "https://localhost:8080/"
        },
        "id": "p8n8n-CPfJur",
        "outputId": "bd9673be-b5b3-497b-c5ae-d6be48b51def"
      },
      "source": [
        "print(type(a))"
      ],
      "execution_count": 7,
      "outputs": [
        {
          "output_type": "stream",
          "text": [
            "<class 'numpy.ndarray'>\n"
          ],
          "name": "stdout"
        }
      ]
    },
    {
      "cell_type": "code",
      "metadata": {
        "colab": {
          "base_uri": "https://localhost:8080/"
        },
        "id": "BZN9roIefV45",
        "outputId": "b5f3696a-f4dd-4e10-eb65-5762db591328"
      },
      "source": [
        "print(a.shape)\r\n",
        "print(b.shape)"
      ],
      "execution_count": 8,
      "outputs": [
        {
          "output_type": "stream",
          "text": [
            "(3, 2)\n",
            "(3, 2)\n"
          ],
          "name": "stdout"
        }
      ]
    },
    {
      "cell_type": "code",
      "metadata": {
        "colab": {
          "base_uri": "https://localhost:8080/"
        },
        "id": "PTAJ8l93i9yo",
        "outputId": "d6a0c7dc-8045-4fdc-a3c6-c7cf7f8494ac"
      },
      "source": [
        "# Add both the matrix using for loop\r\n",
        "(x,y) = a.shape\r\n",
        "print(x,y)"
      ],
      "execution_count": 9,
      "outputs": [
        {
          "output_type": "stream",
          "text": [
            "3 2\n"
          ],
          "name": "stdout"
        }
      ]
    },
    {
      "cell_type": "code",
      "metadata": {
        "colab": {
          "base_uri": "https://localhost:8080/"
        },
        "id": "fZCTftnIjJeE",
        "outputId": "69070caf-8cd8-471e-b93f-c1b2158e5b74"
      },
      "source": [
        "c = np.zeros((3,2))\r\n",
        "for i in range(x):\r\n",
        "  for j in range(y):\r\n",
        "   c[i,j] = a[i,j] + b[i,j]\r\n",
        "\r\n",
        "print(c)"
      ],
      "execution_count": 10,
      "outputs": [
        {
          "output_type": "stream",
          "text": [
            "[[1.02820522 0.72208533]\n",
            " [1.30033322 0.9218464 ]\n",
            " [0.25934856 0.66237179]]\n"
          ],
          "name": "stdout"
        }
      ]
    },
    {
      "cell_type": "code",
      "metadata": {
        "colab": {
          "base_uri": "https://localhost:8080/"
        },
        "id": "0XVGibHXjQsG",
        "outputId": "b8338828-42d0-4d71-a870-24263d916c8b"
      },
      "source": [
        "# Finding Points whether they lies inside or outside the circle\r\n",
        "# With split these number will be transformed into string, so we have to convert them into integer\r\n",
        "px,py = map(int, input(\"Enter Two Number Seperated by Comma-> \").split(\",\"))"
      ],
      "execution_count": 11,
      "outputs": [
        {
          "output_type": "stream",
          "text": [
            "Enter Two Number Seperated by Comma-> 2,2\n"
          ],
          "name": "stdout"
        }
      ]
    },
    {
      "cell_type": "code",
      "metadata": {
        "colab": {
          "base_uri": "https://localhost:8080/"
        },
        "id": "RnbkN5_cp8d0",
        "outputId": "9af8d102-e342-4116-f8fb-d9c694fbd53c"
      },
      "source": [
        "cx,cy,r = map(int, input(\"Enter Center Point X,Y and Radious\").split(\",\"))"
      ],
      "execution_count": 13,
      "outputs": [
        {
          "output_type": "stream",
          "text": [
            "Enter Center Point X,Y and Radious3,5,3\n"
          ],
          "name": "stdout"
        }
      ]
    },
    {
      "cell_type": "code",
      "metadata": {
        "id": "-vC0p26fqNcH"
      },
      "source": [
        "import math\r\n",
        "\r\n",
        "d = math.sqrt((px-cx)**2 + (py-cy)**2)"
      ],
      "execution_count": 14,
      "outputs": []
    },
    {
      "cell_type": "code",
      "metadata": {
        "colab": {
          "base_uri": "https://localhost:8080/"
        },
        "id": "VEvYzD7oqiBx",
        "outputId": "a754c5aa-e8af-4358-8b89-279f4c8bdb35"
      },
      "source": [
        "if d<r:\r\n",
        "  print(f\"Point Lies inside the circle, Radious->{r} and Distance->{d}\")\r\n",
        "elif d==r:\r\n",
        "  print(f\"Point Lies on the circle\")\r\n",
        "else:\r\n",
        "  print(\"POint lies Outside the circle\")"
      ],
      "execution_count": 15,
      "outputs": [
        {
          "output_type": "stream",
          "text": [
            "POint lies Outside the circle\n"
          ],
          "name": "stdout"
        }
      ]
    },
    {
      "cell_type": "code",
      "metadata": {
        "id": "XB7Ft6EuqwbS",
        "colab": {
          "base_uri": "https://localhost:8080/"
        },
        "outputId": "4f545997-dd0b-463f-f644-21008e3c9f8a"
      },
      "source": [
        "# reshape using pyhton\r\n",
        "a1 = np.random.rand(4,5)\r\n",
        "print(a1)"
      ],
      "execution_count": 16,
      "outputs": [
        {
          "output_type": "stream",
          "text": [
            "[[0.8459834  0.77545705 0.13026299 0.76726417 0.52406466]\n",
            " [0.60586424 0.52972838 0.30567455 0.59688063 0.1820215 ]\n",
            " [0.8745746  0.589637   0.28010459 0.49883193 0.98905934]\n",
            " [0.52415878 0.38033803 0.71286687 0.2450139  0.31700488]]\n"
          ],
          "name": "stdout"
        }
      ]
    },
    {
      "cell_type": "code",
      "metadata": {
        "colab": {
          "base_uri": "https://localhost:8080/"
        },
        "id": "FEKgGZqfX_vF",
        "outputId": "65b385ca-d717-4e41-fe37-2dbee2e9055a"
      },
      "source": [
        "print(np.reshape(a1,(20),'F')) # F means Coloumn major order"
      ],
      "execution_count": 20,
      "outputs": [
        {
          "output_type": "stream",
          "text": [
            "[0.8459834  0.60586424 0.8745746  0.52415878 0.77545705 0.52972838\n",
            " 0.589637   0.38033803 0.13026299 0.30567455 0.28010459 0.71286687\n",
            " 0.76726417 0.59688063 0.49883193 0.2450139  0.52406466 0.1820215\n",
            " 0.98905934 0.31700488]\n"
          ],
          "name": "stdout"
        }
      ]
    },
    {
      "cell_type": "code",
      "metadata": {
        "colab": {
          "base_uri": "https://localhost:8080/"
        },
        "id": "qKqV10ZbYImN",
        "outputId": "2a3d1253-3d41-4c76-ed7e-ca586583a3a3"
      },
      "source": [
        "print(np.reshape(a1,(20),'C')) # C means Row major order"
      ],
      "execution_count": 21,
      "outputs": [
        {
          "output_type": "stream",
          "text": [
            "[0.8459834  0.77545705 0.13026299 0.76726417 0.52406466 0.60586424\n",
            " 0.52972838 0.30567455 0.59688063 0.1820215  0.8745746  0.589637\n",
            " 0.28010459 0.49883193 0.98905934 0.52415878 0.38033803 0.71286687\n",
            " 0.2450139  0.31700488]\n"
          ],
          "name": "stdout"
        }
      ]
    },
    {
      "cell_type": "code",
      "metadata": {
        "colab": {
          "base_uri": "https://localhost:8080/"
        },
        "id": "MQODANkBYrVf",
        "outputId": "2afa0559-d5f9-49b4-ea70-a6fc00807a27"
      },
      "source": [
        "print(np.reshape(a1,(5,-1),'C')) # -1 automatically transformed order in 20 --> 5*4"
      ],
      "execution_count": 23,
      "outputs": [
        {
          "output_type": "stream",
          "text": [
            "[[0.8459834  0.77545705 0.13026299 0.76726417]\n",
            " [0.52406466 0.60586424 0.52972838 0.30567455]\n",
            " [0.59688063 0.1820215  0.8745746  0.589637  ]\n",
            " [0.28010459 0.49883193 0.98905934 0.52415878]\n",
            " [0.38033803 0.71286687 0.2450139  0.31700488]]\n"
          ],
          "name": "stdout"
        }
      ]
    },
    {
      "cell_type": "code",
      "metadata": {
        "id": "cIfa30anYzwm"
      },
      "source": [
        "# Tensor 4*5*6 convert it into 10*12\r\n",
        "b1 = np.random.rand(4,5,6)"
      ],
      "execution_count": 24,
      "outputs": []
    },
    {
      "cell_type": "code",
      "metadata": {
        "colab": {
          "base_uri": "https://localhost:8080/"
        },
        "id": "KBewj6tiZOAS",
        "outputId": "cd899fb2-4e51-446a-c2bf-bc8f3110b5a6"
      },
      "source": [
        "print(np.reshape(b1,(10,12),'C'))"
      ],
      "execution_count": 26,
      "outputs": [
        {
          "output_type": "stream",
          "text": [
            "[[0.08387744 0.64794058 0.70589256 0.6757823  0.16238509 0.89505217\n",
            "  0.08322252 0.61400698 0.91965699 0.65132618 0.21866127 0.22187499]\n",
            " [0.89294637 0.48239165 0.98537192 0.11857048 0.92055125 0.42169922\n",
            "  0.86721095 0.89121397 0.01669481 0.02237795 0.56036198 0.76558508]\n",
            " [0.90340949 0.28064009 0.64010499 0.92095004 0.78184631 0.32757589\n",
            "  0.42147976 0.78307591 0.37131868 0.41124542 0.82983241 0.88851069]\n",
            " [0.91551834 0.76211476 0.81744626 0.29556913 0.2246153  0.24902053\n",
            "  0.1750282  0.95559671 0.28153826 0.74013657 0.23430897 0.3542103 ]\n",
            " [0.13997199 0.45933311 0.33596869 0.22486133 0.06784976 0.52213539\n",
            "  0.52408522 0.0351209  0.66064245 0.03317128 0.93664019 0.17239247]\n",
            " [0.34992642 0.69092938 0.81885062 0.37951692 0.478158   0.07771734\n",
            "  0.93244495 0.31904638 0.11813067 0.97159277 0.8687955  0.18633741]\n",
            " [0.83753779 0.6356029  0.57292462 0.66084105 0.2012612  0.95251114\n",
            "  0.94901193 0.6012889  0.14036891 0.89994101 0.42255071 0.8019001 ]\n",
            " [0.8312253  0.2662943  0.79295834 0.50219495 0.53774065 0.81994102\n",
            "  0.50842979 0.67151425 0.6844264  0.18767132 0.08702788 0.09763412]\n",
            " [0.07728754 0.53333549 0.71109731 0.79221211 0.19329211 0.55426724\n",
            "  0.9786694  0.43562304 0.3088359  0.31479186 0.70907728 0.96258777]\n",
            " [0.40997561 0.81999612 0.473538   0.73018549 0.84841404 0.91850467\n",
            "  0.10021743 0.17526878 0.95205123 0.01297161 0.0347694  0.39049819]]\n"
          ],
          "name": "stdout"
        }
      ]
    },
    {
      "cell_type": "code",
      "metadata": {
        "id": "SCOA1ICQZPF4"
      },
      "source": [
        "a1 = np.random.rand(3,4)\r\n",
        "a2 = np.random.rand(3,5)"
      ],
      "execution_count": 27,
      "outputs": []
    },
    {
      "cell_type": "code",
      "metadata": {
        "colab": {
          "base_uri": "https://localhost:8080/"
        },
        "id": "H0aMZ0eia__4",
        "outputId": "ee5b7ab3-241b-418a-e135-f2a61581fe39"
      },
      "source": [
        "c1 = np.hstack((a1,a2))\r\n",
        "print(c1)"
      ],
      "execution_count": 29,
      "outputs": [
        {
          "output_type": "stream",
          "text": [
            "[[0.49434382 0.54038003 0.67863214 0.06422495 0.91418619 0.04810654\n",
            "  0.77283439 0.93440876 0.03083972]\n",
            " [0.5042637  0.79206641 0.33199179 0.87955973 0.33683941 0.92469032\n",
            "  0.26775838 0.24865764 0.71389555]\n",
            " [0.86914216 0.89601121 0.83071659 0.31763102 0.79427367 0.86639452\n",
            "  0.41288101 0.95017914 0.89917365]]\n"
          ],
          "name": "stdout"
        }
      ]
    },
    {
      "cell_type": "code",
      "metadata": {
        "colab": {
          "base_uri": "https://localhost:8080/"
        },
        "id": "ZzM4GPIebJaY",
        "outputId": "e4670908-76e6-46fa-f4e6-891e82b98762"
      },
      "source": [
        "a3 = np.random.rand(5,4)\r\n",
        "c2 = np.vstack((a1,a3))\r\n",
        "print(c2)"
      ],
      "execution_count": 31,
      "outputs": [
        {
          "output_type": "stream",
          "text": [
            "[[0.49434382 0.54038003 0.67863214 0.06422495]\n",
            " [0.5042637  0.79206641 0.33199179 0.87955973]\n",
            " [0.86914216 0.89601121 0.83071659 0.31763102]\n",
            " [0.24153187 0.02805362 0.78898654 0.48462615]\n",
            " [0.70132719 0.25556219 0.93558346 0.65925002]\n",
            " [0.1737418  0.51538458 0.96186749 0.0205414 ]\n",
            " [0.93287893 0.56832893 0.31761365 0.81668341]\n",
            " [0.70582399 0.2472199  0.08589442 0.34829201]]\n"
          ],
          "name": "stdout"
        }
      ]
    },
    {
      "cell_type": "code",
      "metadata": {
        "id": "NeGil9Amb1KV"
      },
      "source": [
        "x1 = np.random.rand(5,4,3)\r\n",
        "x2 = np.random.rand(5,3,3)\r\n",
        "\r\n",
        "y1 = np.hstack((x1,x2))\r\n",
        "# y1"
      ],
      "execution_count": 35,
      "outputs": []
    },
    {
      "cell_type": "code",
      "metadata": {
        "id": "gOzABRYaeOYq"
      },
      "source": [
        ""
      ],
      "execution_count": null,
      "outputs": []
    }
  ]
}