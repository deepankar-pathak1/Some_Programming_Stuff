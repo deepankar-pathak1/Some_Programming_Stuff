{
  "nbformat": 4,
  "nbformat_minor": 0,
  "metadata": {
    "colab": {
      "name": "Numpy Prac.ipynb",
      "provenance": [],
      "authorship_tag": "ABX9TyNVuZAHeXYhrhOpFMO6Dv+t",
      "include_colab_link": true
    },
    "kernelspec": {
      "name": "python3",
      "display_name": "Python 3"
    }
  },
  "cells": [
    {
      "cell_type": "markdown",
      "metadata": {
        "id": "view-in-github",
        "colab_type": "text"
      },
      "source": [
        "<a href=\"https://colab.research.google.com/github/deepankar-pathak1/Some_Programming_Stuff/blob/main/Numpy_Prac.ipynb\" target=\"_parent\"><img src=\"https://colab.research.google.com/assets/colab-badge.svg\" alt=\"Open In Colab\"/></a>"
      ]
    },
    {
      "cell_type": "code",
      "metadata": {
        "colab": {
          "base_uri": "https://localhost:8080/"
        },
        "id": "TEYwnIvVoJSM",
        "outputId": "83b54f19-e401-4a88-e71e-648390b1b3a7"
      },
      "source": [
        "import numpy as np\n",
        "print(np.__version__)\n",
        "print(np.show_config)"
      ],
      "execution_count": 22,
      "outputs": [
        {
          "output_type": "stream",
          "text": [
            "1.18.5\n",
            "<function show at 0x7fb5f952c1e0>\n"
          ],
          "name": "stdout"
        }
      ]
    },
    {
      "cell_type": "code",
      "metadata": {
        "colab": {
          "base_uri": "https://localhost:8080/"
        },
        "id": "z9tKyhrOq0Wg",
        "outputId": "aec90988-2e4d-47d0-87d0-692eff9811f8"
      },
      "source": [
        "# Write a NumPy program to test whether none of the elements of a given array is zero.\n",
        "\n",
        "import numpy as np\n",
        "x = np.array([1,2,3])\n",
        "print(\"Original Array : \")\n",
        "print(x)\n",
        "print(np.all(x))\n",
        "y = np.array([0,1])\n",
        "print(np.all(y))"
      ],
      "execution_count": 27,
      "outputs": [
        {
          "output_type": "stream",
          "text": [
            "Original Array : \n",
            "[1 2 3]\n",
            "True\n",
            "False\n"
          ],
          "name": "stdout"
        }
      ]
    },
    {
      "cell_type": "code",
      "metadata": {
        "colab": {
          "base_uri": "https://localhost:8080/"
        },
        "id": "27UEawHDq6QN",
        "outputId": "2c42c084-7a97-48f7-b16c-6d6f073f4ffb"
      },
      "source": [
        "# to create 1D array \n",
        "\n",
        "arr = np.arange(10)\n",
        "print(arr)"
      ],
      "execution_count": 29,
      "outputs": [
        {
          "output_type": "stream",
          "text": [
            "[0 1 2 3 4 5 6 7 8 9]\n"
          ],
          "name": "stdout"
        }
      ]
    },
    {
      "cell_type": "code",
      "metadata": {
        "colab": {
          "base_uri": "https://localhost:8080/"
        },
        "id": "Uc4u5DB5rKkm",
        "outputId": "f4214834-e93a-4a51-cfd0-688f83ab6ac5"
      },
      "source": [
        "print(np.repeat(True,9).reshape(3,-1))"
      ],
      "execution_count": 31,
      "outputs": [
        {
          "output_type": "stream",
          "text": [
            "[[ True  True  True]\n",
            " [ True  True  True]\n",
            " [ True  True  True]]\n"
          ],
          "name": "stdout"
        }
      ]
    },
    {
      "cell_type": "code",
      "metadata": {
        "colab": {
          "base_uri": "https://localhost:8080/"
        },
        "id": "aNRzSvRPrW5w",
        "outputId": "495fa0f9-fc56-4242-cf21-7526d6070f1e"
      },
      "source": [
        "arr = np.arange(10)\n",
        "print(arr)\n",
        "print(\"Check Odd \")\n",
        "odd = arr[arr%2 != 0]\n",
        "print(odd)"
      ],
      "execution_count": 33,
      "outputs": [
        {
          "output_type": "stream",
          "text": [
            "[0 1 2 3 4 5 6 7 8 9]\n",
            "Check Odd \n",
            "[1 3 5 7 9]\n"
          ],
          "name": "stdout"
        }
      ]
    },
    {
      "cell_type": "code",
      "metadata": {
        "colab": {
          "base_uri": "https://localhost:8080/"
        },
        "id": "Z3rEN9FerhIr",
        "outputId": "ade75acd-5e22-477c-e524-a79ded2bddc7"
      },
      "source": [
        "b = np.arange(20)\n",
        "print(b)\n",
        "print(\"Replace all Odd Number with -1\")\n",
        "b[b%2 != 0] = -1\n",
        "print(b)\n",
        "\n"
      ],
      "execution_count": 35,
      "outputs": [
        {
          "output_type": "stream",
          "text": [
            "[ 0  1  2  3  4  5  6  7  8  9 10 11 12 13 14 15 16 17 18 19]\n",
            "Replace all Odd Number with -1\n",
            "[ 0 -1  2 -1  4 -1  6 -1  8 -1 10 -1 12 -1 14 -1 16 -1 18 -1]\n"
          ],
          "name": "stdout"
        }
      ]
    },
    {
      "cell_type": "code",
      "metadata": {
        "colab": {
          "base_uri": "https://localhost:8080/"
        },
        "id": "kX7LOJDYrpdr",
        "outputId": "98f29390-9023-46e7-c3ba-ed125f787bda"
      },
      "source": [
        "# reshape an array\n",
        "c = np.arange(20)\n",
        "print(c)\n",
        "d = np.reshape(c,(5,4))\n",
        "print(\"******--*****--****\")\n",
        "print(d)"
      ],
      "execution_count": 39,
      "outputs": [
        {
          "output_type": "stream",
          "text": [
            "[ 0  1  2  3  4  5  6  7  8  9 10 11 12 13 14 15 16 17 18 19]\n",
            "******--*****--****\n",
            "[[ 0  1  2  3]\n",
            " [ 4  5  6  7]\n",
            " [ 8  9 10 11]\n",
            " [12 13 14 15]\n",
            " [16 17 18 19]]\n"
          ],
          "name": "stdout"
        }
      ]
    },
    {
      "cell_type": "code",
      "metadata": {
        "id": "fuVo6GEwrvK4"
      },
      "source": [
        ""
      ],
      "execution_count": 39,
      "outputs": []
    },
    {
      "cell_type": "code",
      "metadata": {
        "id": "cIZ4xDgBsLr5"
      },
      "source": [
        ""
      ],
      "execution_count": 39,
      "outputs": []
    },
    {
      "cell_type": "code",
      "metadata": {
        "id": "GfHxhQDAs4Rn"
      },
      "source": [
        ""
      ],
      "execution_count": null,
      "outputs": []
    }
  ]
}