{
  "nbformat": 4,
  "nbformat_minor": 0,
  "metadata": {
    "celltoolbar": "Slideshow",
    "kernelspec": {
      "display_name": "Python 3",
      "language": "python",
      "name": "python3"
    },
    "language_info": {
      "codemirror_mode": {
        "name": "ipython",
        "version": 3
      },
      "file_extension": ".py",
      "mimetype": "text/x-python",
      "name": "python",
      "nbconvert_exporter": "python",
      "pygments_lexer": "ipython3",
      "version": "3.7.3"
    },
    "colab": {
      "name": "LIVE_OOP_Basics_II.ipynb",
      "provenance": [],
      "include_colab_link": true
    }
  },
  "cells": [
    {
      "cell_type": "markdown",
      "metadata": {
        "id": "view-in-github",
        "colab_type": "text"
      },
      "source": [
        "<a href=\"https://colab.research.google.com/github/deepankar-pathak1/Some_Programming_Stuff/blob/main/LIVE_OOP_Basics_II.ipynb\" target=\"_parent\"><img src=\"https://colab.research.google.com/assets/colab-badge.svg\" alt=\"Open In Colab\"/></a>"
      ]
    },
    {
      "cell_type": "markdown",
      "metadata": {
        "id": "ZL4UOMq3jQ1J"
      },
      "source": [
        "# OOP- II\n",
        "- Multiple-inheritence, Polymorphism, iterator-objects\n",
        "- Will answer a key questions from yesterday's live chat window. \n",
        "- Will cover a few good ideas like dir() that others suggested in the chat window yesterday.\n",
        "\n",
        "Pre-requisites: previous live-sessions in this series."
      ]
    },
    {
      "cell_type": "markdown",
      "metadata": {
        "id": "KI7ruw4XjQ1J"
      },
      "source": [
        "### How is OOP typically used in an ML role:\n",
        "- Using existing Classes.\n",
        "- Reading documentation to understand how to use a fucntion/class/module.\n",
        "- Fixing code bugs and understanding error messages.\n",
        "- Extending existing classes to modify some fucntionality in an existing class\n",
        "- Working with Software enigneers to build some ML classes for them to use in the larger software.\n",
        "- Do not perform OOD without understanding it well. Typically done by senior engineers/architects. A good beginner's book: https://learning.oreilly.com/library/view/head-first-design/0596007124/"
      ]
    },
    {
      "cell_type": "markdown",
      "metadata": {
        "id": "VfKacOnajQ1J"
      },
      "source": [
        "### Multiple-inheritence\n",
        "\n",
        "https://docs.python.org/3/tutorial/classes.html#multiple-inheritance\n",
        "\n",
        "class DerivedClassName(Base1, Base2, Base3):\n",
        "    <br>....\n",
        "    <br>....\n",
        "    \n"
      ]
    },
    {
      "cell_type": "code",
      "metadata": {
        "id": "KVPkpO8njQ1J",
        "outputId": "66aef7d4-f471-4713-a6a6-220bc641f24c"
      },
      "source": [
        "# toy-example: Modifications on https://overiq.com/python-101/inheritance-and-polymorphism-in-python/\n",
        "\n",
        "class A:\n",
        "    def explore(self):\n",
        "        print(\"explore in A  called\")\n",
        "class B:\n",
        "    def search(self):\n",
        "        print(\"search in B  called\")\n",
        "\n",
        "    def explore(self):\n",
        "        print(\"explore in B called\")\n",
        "\n",
        "class C:\n",
        "    def discover(self):\n",
        "        print(\"discover() in C  called\")\n",
        "\n",
        "class D(A, B, C): # multiple inheritence\n",
        "    def test(self):\n",
        "        print(\"test() in D called\")\n",
        " \n",
        " \n",
        "d_obj = D()\n",
        "d_obj.explore()\n",
        "d_obj.search()\n",
        "d_obj.discover()\n",
        "d_obj.test()"
      ],
      "execution_count": null,
      "outputs": [
        {
          "output_type": "stream",
          "text": [
            "explore in A  called\n",
            "search in B  called\n",
            "discover() in C  called\n",
            "test() in D called\n"
          ],
          "name": "stdout"
        }
      ]
    },
    {
      "cell_type": "code",
      "metadata": {
        "id": "SZ3umKa_jQ1K",
        "outputId": "74ceb44d-dbe5-488b-ef4f-fbdd81a5d70a"
      },
      "source": [
        "# toy-example: Diamond inheritence a.k.a. Deadly dimaond\n",
        "\n",
        "class A:\n",
        "    def explore(self):\n",
        "        print(\"explore in A  called\")\n",
        "\n",
        "class B(A):\n",
        "\n",
        "    def explore(self):\n",
        "        print(\"explore in B called\")\n",
        "\n",
        "class C(A):\n",
        "    def explore(self):\n",
        "        print(\"explore in C  called\")\n",
        "\n",
        "class D(B, C): # multiple inheritence\n",
        "    pass;\n",
        " \n",
        "\n",
        "d_obj = D()\n",
        "d_obj.explore()\n"
      ],
      "execution_count": null,
      "outputs": [
        {
          "output_type": "stream",
          "text": [
            "explore in B called\n"
          ],
          "name": "stdout"
        }
      ]
    },
    {
      "cell_type": "markdown",
      "metadata": {
        "id": "vKNRmH6bjQ1K"
      },
      "source": [
        "### Polymorphism\n",
        "- Different forms\n",
        "- Operator level Polymorphism: 2+3, \"abc\" + \"def\"\n",
        "- Function level Polymorphism: len([1,2,3]), len (\"abcdef\"), len({1,2,3,4})\n",
        "- Class level Polymorphism"
      ]
    },
    {
      "cell_type": "code",
      "metadata": {
        "id": "RUOc3X05jQ1K",
        "outputId": "6d69ef59-6153-4e09-ebeb-6eaccb8e50a3"
      },
      "source": [
        "print(len([1,2,3]));\n",
        "print(len(\"abcdef\"))\n",
        "print(len({1,2,3,4}))"
      ],
      "execution_count": null,
      "outputs": [
        {
          "output_type": "stream",
          "text": [
            "3\n",
            "6\n",
            "4\n"
          ],
          "name": "stdout"
        }
      ]
    },
    {
      "cell_type": "code",
      "metadata": {
        "id": "M_IrpcwbjQ1K",
        "outputId": "c1420e0d-d3e2-4250-fdf4-a769e4ebac38"
      },
      "source": [
        "#class level Polymorphism\n",
        "\n",
        "class A:\n",
        "    def p(self):\n",
        "        return \"function p in A\"\n",
        "\n",
        "class B:\n",
        "    def p(self):\n",
        "        return \"function p in B\"\n",
        "    \n",
        "\n",
        "a = A();\n",
        "b = B();\n",
        "\n",
        "for i in (a,b):\n",
        "    print(i.p()) # the function that runs depends on the object type making this code much more elegant and crisp\n",
        "\n",
        "print(\"##########################\")\n",
        "\n",
        "x=a;\n",
        "print(x.p());\n",
        "\n",
        "x=b;\n",
        "print(x.p());"
      ],
      "execution_count": null,
      "outputs": [
        {
          "output_type": "stream",
          "text": [
            "function p in A\n",
            "function p in B\n",
            "##########################\n",
            "function p in A\n",
            "function p in B\n"
          ],
          "name": "stdout"
        }
      ]
    },
    {
      "cell_type": "code",
      "metadata": {
        "id": "GwhEPJuijQ1K",
        "outputId": "c8666912-8981-47e3-cb73-2cd2f3e2b1a0"
      },
      "source": [
        "# Polymorphism + Inheritence\n",
        "\n",
        "# example seen earlier: [Source: https://overiq.com/python-101/inheritance-and-polymorphism-in-python/]\n",
        "import math\n",
        " \n",
        "class Shape:\n",
        " \n",
        "    def __init__(self, color='black', filled=False):\n",
        "        self.__color = color\n",
        "        self.__filled = filled\n",
        " \n",
        "    def get_color(self):\n",
        "        return self.__color\n",
        " \n",
        "    def set_color(self, color):\n",
        "        self.__color = color\n",
        " \n",
        "    def get_filled(self):\n",
        "        return self.__filled\n",
        " \n",
        "    def set_filled(self, filled):\n",
        "        self.__filled = filled\n",
        " \n",
        " \n",
        "class Rectangle(Shape):\n",
        " \n",
        "    def __init__(self, length, breadth):\n",
        "        super().__init__()\n",
        "        self.__length = length\n",
        "        self.__breadth = breadth\n",
        " \n",
        "    def get_length(self):\n",
        "        return self.__length\n",
        " \n",
        "    def set_length(self, length):\n",
        "        self.__length = length\n",
        " \n",
        "    def get_breadth(self):\n",
        "        return self.__breadth\n",
        " \n",
        "    def set_breadth(self, breadth):\n",
        "        self.__breadth = breadth\n",
        " \n",
        "    def get_area(self):\n",
        "        return self.__length * self.__breadth\n",
        " \n",
        "    def get_perimeter(self):\n",
        "        return 2 * (self.__length + self.__breadth)\n",
        " \n",
        " \n",
        "class Circle(Shape):\n",
        "    def __init__(self, radius):\n",
        "        super().__init__()\n",
        "        self.__radius = radius\n",
        " \n",
        "    def get_radius(self):\n",
        "        return self.__radius\n",
        " \n",
        "    def set_radius(self, radius):\n",
        "        self.__radius = radius\n",
        " \n",
        "    def get_area(self):\n",
        "        return math.pi * self.__radius ** 2\n",
        " \n",
        "    def get_perimeter(self):\n",
        "        return 2 * math.pi * self.__radius\n",
        "\n",
        "s = Shape();\n",
        "r = Rectangle(10,20);\n",
        "c = Circle(2);\n",
        "\n",
        "for i in (s, r,c):\n",
        "    print(i.get_color())\n",
        "    \n",
        "for i in (r,c):\n",
        "    print(i.get_area())"
      ],
      "execution_count": null,
      "outputs": [
        {
          "output_type": "stream",
          "text": [
            "black\n",
            "black\n",
            "black\n",
            "200\n",
            "12.566370614359172\n"
          ],
          "name": "stdout"
        }
      ]
    },
    {
      "cell_type": "code",
      "metadata": {
        "id": "XWMrgdQajQ1K",
        "outputId": "52a0ade2-b6fa-41dd-821e-a282724509c0"
      },
      "source": [
        "# Polymorphism + Inheritence [inbuilt-DS]\n",
        "\n",
        "d = {'a':1, 'b':2}\n",
        "l = [1,2,3,4]\n",
        "s = {1,2,3,4}\n",
        "\n",
        "for i in (d,l,s):\n",
        "    print(i) # polymorphism + inheritence [__str__ from object]\n"
      ],
      "execution_count": null,
      "outputs": [
        {
          "output_type": "stream",
          "text": [
            "{'a': 1, 'b': 2}\n",
            "[1, 2, 3, 4]\n",
            "{1, 2, 3, 4}\n"
          ],
          "name": "stdout"
        }
      ]
    },
    {
      "cell_type": "markdown",
      "metadata": {
        "id": "EBBI0kmRjQ1K"
      },
      "source": [
        "### Iterable objects"
      ]
    },
    {
      "cell_type": "code",
      "metadata": {
        "id": "j9H-I5mujQ1K",
        "outputId": "8e207a92-cdc2-435f-fc4d-64b488878dc8"
      },
      "source": [
        "### Iteratable objects in Python\n",
        "for i in [1,2,3,4]:\n",
        "    print(i)"
      ],
      "execution_count": null,
      "outputs": [
        {
          "output_type": "stream",
          "text": [
            "1\n",
            "2\n",
            "3\n",
            "4\n"
          ],
          "name": "stdout"
        }
      ]
    },
    {
      "cell_type": "code",
      "metadata": {
        "id": "FI1lPxVXjQ1K"
      },
      "source": [
        "# How to make objects of a class iteratable?\n",
        "# Source: https://docs.python.org/3/tutorial/classes.html#iterators\n",
        "\n",
        "class Reverse:\n",
        "    \"\"\"Iterator for looping over a sequence backwards.\"\"\"\n",
        "    def __init__(self, data): # data can be list or tuple or string\n",
        "        self.data = data\n",
        "        self.index = len(data)\n",
        "\n",
        "    def __iter__(self):\n",
        "        return self\n",
        "\n",
        "    def __next__(self):\n",
        "        if self.index == 0:\n",
        "            raise StopIteration\n",
        "        self.index = self.index - 1\n",
        "        return self.data[self.index]"
      ],
      "execution_count": null,
      "outputs": []
    },
    {
      "cell_type": "code",
      "metadata": {
        "id": "l9kY05xdjQ1K",
        "outputId": "23a6e668-a6da-4f57-9901-aef603e4ecf3"
      },
      "source": [
        "r = Reverse([1,2,3,4]);\n",
        "for i in r:\n",
        "    print(i)"
      ],
      "execution_count": null,
      "outputs": [
        {
          "output_type": "stream",
          "text": [
            "4\n",
            "3\n",
            "2\n",
            "1\n"
          ],
          "name": "stdout"
        }
      ]
    },
    {
      "cell_type": "code",
      "metadata": {
        "id": "TZtlokWejQ1L",
        "outputId": "4b65c025-e6e4-4c9d-af31-3cacd9dec8a5"
      },
      "source": [
        "r = Reverse((1,2,3,4,5));\n",
        "for i in r:\n",
        "    print(i)"
      ],
      "execution_count": null,
      "outputs": [
        {
          "output_type": "stream",
          "text": [
            "5\n",
            "4\n",
            "3\n",
            "2\n",
            "1\n"
          ],
          "name": "stdout"
        }
      ]
    },
    {
      "cell_type": "code",
      "metadata": {
        "id": "7cMCVDRJjQ1L",
        "outputId": "e67d03fb-3c69-4dc4-83ff-5eae11442189"
      },
      "source": [
        "r = Reverse(\"abcdef\");\n",
        "for i in r:\n",
        "    print(i)http://localhost:8888/notebooks/CodeWalkthroughSessions/LIVE_OOP_Basics_II.ipynb#"
      ],
      "execution_count": null,
      "outputs": [
        {
          "output_type": "stream",
          "text": [
            "f\n",
            "e\n",
            "d\n",
            "c\n",
            "b\n",
            "a\n"
          ],
          "name": "stdout"
        }
      ]
    },
    {
      "cell_type": "code",
      "metadata": {
        "id": "Ar4bp7cljQ1L",
        "outputId": "8e0a4e46-8013-4868-f2e9-679538b6b164"
      },
      "source": [
        "r = Reverse({1,2,3,4,5});\n",
        "for i in r:\n",
        "    print(i)"
      ],
      "execution_count": null,
      "outputs": [
        {
          "output_type": "error",
          "ename": "TypeError",
          "evalue": "'set' object is not subscriptable",
          "traceback": [
            "\u001b[0;31m---------------------------------------------------------------------------\u001b[0m",
            "\u001b[0;31mTypeError\u001b[0m                                 Traceback (most recent call last)",
            "\u001b[0;32m<ipython-input-149-28ae62154c2b>\u001b[0m in \u001b[0;36m<module>\u001b[0;34m\u001b[0m\n\u001b[1;32m      1\u001b[0m \u001b[0mr\u001b[0m \u001b[0;34m=\u001b[0m \u001b[0mReverse\u001b[0m\u001b[0;34m(\u001b[0m\u001b[0;34m{\u001b[0m\u001b[0;36m1\u001b[0m\u001b[0;34m,\u001b[0m\u001b[0;36m2\u001b[0m\u001b[0;34m,\u001b[0m\u001b[0;36m3\u001b[0m\u001b[0;34m,\u001b[0m\u001b[0;36m4\u001b[0m\u001b[0;34m,\u001b[0m\u001b[0;36m5\u001b[0m\u001b[0;34m}\u001b[0m\u001b[0;34m)\u001b[0m\u001b[0;34m;\u001b[0m\u001b[0;34m\u001b[0m\u001b[0;34m\u001b[0m\u001b[0m\n\u001b[0;32m----> 2\u001b[0;31m \u001b[0;32mfor\u001b[0m \u001b[0mi\u001b[0m \u001b[0;32min\u001b[0m \u001b[0mr\u001b[0m\u001b[0;34m:\u001b[0m\u001b[0;34m\u001b[0m\u001b[0;34m\u001b[0m\u001b[0m\n\u001b[0m\u001b[1;32m      3\u001b[0m     \u001b[0mprint\u001b[0m\u001b[0;34m(\u001b[0m\u001b[0mi\u001b[0m\u001b[0;34m)\u001b[0m\u001b[0;34m\u001b[0m\u001b[0;34m\u001b[0m\u001b[0m\n",
            "\u001b[0;32m<ipython-input-145-f14c16d18755>\u001b[0m in \u001b[0;36m__next__\u001b[0;34m(self)\u001b[0m\n\u001b[1;32m     15\u001b[0m             \u001b[0;32mraise\u001b[0m \u001b[0mStopIteration\u001b[0m\u001b[0;34m\u001b[0m\u001b[0;34m\u001b[0m\u001b[0m\n\u001b[1;32m     16\u001b[0m         \u001b[0mself\u001b[0m\u001b[0;34m.\u001b[0m\u001b[0mindex\u001b[0m \u001b[0;34m=\u001b[0m \u001b[0mself\u001b[0m\u001b[0;34m.\u001b[0m\u001b[0mindex\u001b[0m \u001b[0;34m-\u001b[0m \u001b[0;36m1\u001b[0m\u001b[0;34m\u001b[0m\u001b[0;34m\u001b[0m\u001b[0m\n\u001b[0;32m---> 17\u001b[0;31m         \u001b[0;32mreturn\u001b[0m \u001b[0mself\u001b[0m\u001b[0;34m.\u001b[0m\u001b[0mdata\u001b[0m\u001b[0;34m[\u001b[0m\u001b[0mself\u001b[0m\u001b[0;34m.\u001b[0m\u001b[0mindex\u001b[0m\u001b[0;34m]\u001b[0m\u001b[0;34m\u001b[0m\u001b[0;34m\u001b[0m\u001b[0m\n\u001b[0m",
            "\u001b[0;31mTypeError\u001b[0m: 'set' object is not subscriptable"
          ]
        }
      ]
    },
    {
      "cell_type": "markdown",
      "metadata": {
        "id": "NBBUqDadjQ1L"
      },
      "source": [
        "### Few questions from Yesterday's live session in the chat window"
      ]
    },
    {
      "cell_type": "code",
      "metadata": {
        "id": "Urf4ICv9jQ1L",
        "outputId": "1b70e06b-4d31-4f9a-e0f8-d4bf5f80dbeb"
      },
      "source": [
        "# Empty classes as a structure.\n",
        "\n",
        "class E:\n",
        "    pass\n",
        "\n",
        "e1 = E();\n",
        "e1.name=\"abc\" # name and no attributes for e1\n",
        "e1.no = 123\n",
        "\n",
        "\n",
        "e2 = E(); # name and addr attrib for e2\n",
        "e2.name = \"xyz\"\n",
        "e2.addr = \"abcdefghijklmnop\"\n",
        "\n",
        "\n",
        "print(e1.name, e1.no)\n",
        "print(e2.name, e2.addr)"
      ],
      "execution_count": null,
      "outputs": [
        {
          "output_type": "stream",
          "text": [
            "abc 123\n",
            "xyz abcdefghijklmnop\n"
          ],
          "name": "stdout"
        }
      ]
    },
    {
      "cell_type": "code",
      "metadata": {
        "id": "6q4a21u8jQ1L",
        "outputId": "bd354021-0669-4a8f-fc3c-32c698a36378"
      },
      "source": [
        "# function within __init__\n",
        "class A:\n",
        "    def __init__(self):\n",
        "        \n",
        "        def function_within(x):\n",
        "            return x+1\n",
        "        \n",
        "        i =10;\n",
        "        print(function_within(i))\n",
        "        \n",
        "\n",
        "a = A();"
      ],
      "execution_count": null,
      "outputs": [
        {
          "output_type": "stream",
          "text": [
            "11\n"
          ],
          "name": "stdout"
        }
      ]
    },
    {
      "cell_type": "code",
      "metadata": {
        "id": "edxuQjzNjQ1L",
        "outputId": "1bd48512-cdc0-4313-e189-e91988109705"
      },
      "source": [
        "# dir() is a powerful inbuilt function in Python3, \n",
        "# which returns list of the attributes and methods of any object\n",
        "# like classes , modules, strings, lists, dictionaries etc.\n",
        "\n",
        "import math\n",
        "print(dir(math)) # module\n",
        "\n"
      ],
      "execution_count": null,
      "outputs": [
        {
          "output_type": "stream",
          "text": [
            "['__doc__', '__file__', '__loader__', '__name__', '__package__', '__spec__', 'acos', 'acosh', 'asin', 'asinh', 'atan', 'atan2', 'atanh', 'ceil', 'copysign', 'cos', 'cosh', 'degrees', 'e', 'erf', 'erfc', 'exp', 'expm1', 'fabs', 'factorial', 'floor', 'fmod', 'frexp', 'fsum', 'gamma', 'gcd', 'hypot', 'inf', 'isclose', 'isfinite', 'isinf', 'isnan', 'ldexp', 'lgamma', 'log', 'log10', 'log1p', 'log2', 'modf', 'nan', 'pi', 'pow', 'radians', 'remainder', 'sin', 'sinh', 'sqrt', 'tan', 'tanh', 'tau', 'trunc']\n"
          ],
          "name": "stdout"
        }
      ]
    },
    {
      "cell_type": "code",
      "metadata": {
        "id": "2jOU4XqIjQ1L",
        "outputId": "c30c8633-fb49-4367-80c2-3b80b0bc4d95"
      },
      "source": [
        "class B:\n",
        "    def f():\n",
        "        print(\"Hi\");\n",
        "\n",
        "print(dir(B))"
      ],
      "execution_count": null,
      "outputs": [
        {
          "output_type": "stream",
          "text": [
            "['__class__', '__delattr__', '__dict__', '__dir__', '__doc__', '__eq__', '__format__', '__ge__', '__getattribute__', '__gt__', '__hash__', '__init__', '__init_subclass__', '__le__', '__lt__', '__module__', '__ne__', '__new__', '__reduce__', '__reduce_ex__', '__repr__', '__setattr__', '__sizeof__', '__str__', '__subclasshook__', '__weakref__', 'f']\n"
          ],
          "name": "stdout"
        }
      ]
    },
    {
      "cell_type": "code",
      "metadata": {
        "id": "gVUtYg2QjQ1L",
        "outputId": "075f438d-d3ce-438e-e748-11d4c4ed6a13"
      },
      "source": [
        "# use tab to autofill, differs from one IDE to another.\n",
        "print(math.pi)"
      ],
      "execution_count": null,
      "outputs": [
        {
          "output_type": "stream",
          "text": [
            "3.141592653589793\n"
          ],
          "name": "stdout"
        }
      ]
    },
    {
      "cell_type": "code",
      "metadata": {
        "id": "H8VbI2Z1jQ1L",
        "outputId": "37dfdd6c-8bba-4804-9b7f-45be405ac0a1"
      },
      "source": [
        "import sys\n",
        "print(sys.version)"
      ],
      "execution_count": null,
      "outputs": [
        {
          "output_type": "stream",
          "text": [
            "3.7.3 (default, Mar 27 2019, 09:23:15) \n",
            "[Clang 10.0.1 (clang-1001.0.46.3)]\n"
          ],
          "name": "stdout"
        }
      ]
    },
    {
      "cell_type": "code",
      "metadata": {
        "id": "bobn7ShnjQ1L",
        "outputId": "d108efe7-9c4a-489a-a2e6-8d934b4d53ed"
      },
      "source": [
        "# private methods are just like private attributes that we saw earlier \"__function()\"\n",
        "\n",
        "class C:\n",
        "    def __pr(self, i):\n",
        "        return 2**i;\n",
        "    \n",
        "    def pu(self, x):\n",
        "        return self.__pr(x)+1;\n",
        "\n",
        "c = C();\n",
        "\n",
        "print(c.pu(4))\n",
        "\n",
        "print(c.__pr(4))\n",
        "    "
      ],
      "execution_count": null,
      "outputs": [
        {
          "output_type": "stream",
          "text": [
            "17\n"
          ],
          "name": "stdout"
        },
        {
          "output_type": "error",
          "ename": "AttributeError",
          "evalue": "'C' object has no attribute '__pr'",
          "traceback": [
            "\u001b[0;31m---------------------------------------------------------------------------\u001b[0m",
            "\u001b[0;31mAttributeError\u001b[0m                            Traceback (most recent call last)",
            "\u001b[0;32m<ipython-input-71-070461f56116>\u001b[0m in \u001b[0;36m<module>\u001b[0;34m\u001b[0m\n\u001b[1;32m     12\u001b[0m \u001b[0mprint\u001b[0m\u001b[0;34m(\u001b[0m\u001b[0mc\u001b[0m\u001b[0;34m.\u001b[0m\u001b[0mpu\u001b[0m\u001b[0;34m(\u001b[0m\u001b[0;36m4\u001b[0m\u001b[0;34m)\u001b[0m\u001b[0;34m)\u001b[0m\u001b[0;34m\u001b[0m\u001b[0;34m\u001b[0m\u001b[0m\n\u001b[1;32m     13\u001b[0m \u001b[0;34m\u001b[0m\u001b[0m\n\u001b[0;32m---> 14\u001b[0;31m \u001b[0mprint\u001b[0m\u001b[0;34m(\u001b[0m\u001b[0mc\u001b[0m\u001b[0;34m.\u001b[0m\u001b[0m__pr\u001b[0m\u001b[0;34m(\u001b[0m\u001b[0;36m4\u001b[0m\u001b[0;34m)\u001b[0m\u001b[0;34m)\u001b[0m\u001b[0;34m\u001b[0m\u001b[0;34m\u001b[0m\u001b[0m\n\u001b[0m\u001b[1;32m     15\u001b[0m \u001b[0;34m\u001b[0m\u001b[0m\n",
            "\u001b[0;31mAttributeError\u001b[0m: 'C' object has no attribute '__pr'"
          ]
        }
      ]
    },
    {
      "cell_type": "code",
      "metadata": {
        "id": "NcxG1M9pjQ1L",
        "outputId": "d91b6110-b71e-4cd0-cc6f-24caa7bfe7f7"
      },
      "source": [
        "print(dir(C))"
      ],
      "execution_count": null,
      "outputs": [
        {
          "output_type": "stream",
          "text": [
            "['_C__pr', '__class__', '__delattr__', '__dict__', '__dir__', '__doc__', '__eq__', '__format__', '__ge__', '__getattribute__', '__gt__', '__hash__', '__init__', '__init_subclass__', '__le__', '__lt__', '__module__', '__ne__', '__new__', '__reduce__', '__reduce_ex__', '__repr__', '__setattr__', '__sizeof__', '__str__', '__subclasshook__', '__weakref__', 'pu']\n"
          ],
          "name": "stdout"
        }
      ]
    },
    {
      "cell_type": "code",
      "metadata": {
        "id": "-b7RWjvQjQ1L",
        "outputId": "eaf080bb-ab0c-4338-ee8d-76e1132b5570"
      },
      "source": [
        "print(c._C__pr(4))"
      ],
      "execution_count": null,
      "outputs": [
        {
          "output_type": "stream",
          "text": [
            "16\n"
          ],
          "name": "stdout"
        }
      ]
    },
    {
      "cell_type": "code",
      "metadata": {
        "id": "I6y8LYQPjQ1L",
        "outputId": "0681a0b3-fd1c-435a-87d0-fadefd92f79a"
      },
      "source": [
        "# Inheritence of private members\n",
        "# C++ has public, private, protected [accessible in all sub-classes but not outside the class]\n",
        "\n",
        "class C:\n",
        "    def __pr(self, i): # private due to TWO underscores, implementation dependent, suggested \n",
        "        return 2**i;\n",
        "    \n",
        "    def pu(self, x):\n",
        "        return self.__pr(x)+1;\n",
        "\n",
        "print(dir(C))\n",
        "print(\"\\n\\n***************************************************************************\\n\\n\")\n",
        "    \n",
        "class D(C):\n",
        "    def f1(self, i):\n",
        "        return self._C__pr(i) # accessing private member of base class\n",
        "    \n",
        "    def f2(self, i):\n",
        "        return self.pu(i) # accessing private member of base class\n",
        "    \n",
        "d = D();\n",
        "print(dir(D))\n",
        "\n",
        "print(d.f2(4))\n"
      ],
      "execution_count": null,
      "outputs": [
        {
          "output_type": "stream",
          "text": [
            "['_C__pr', '__class__', '__delattr__', '__dict__', '__dir__', '__doc__', '__eq__', '__format__', '__ge__', '__getattribute__', '__gt__', '__hash__', '__init__', '__init_subclass__', '__le__', '__lt__', '__module__', '__ne__', '__new__', '__reduce__', '__reduce_ex__', '__repr__', '__setattr__', '__sizeof__', '__str__', '__subclasshook__', '__weakref__', 'pu']\n",
            "\n",
            "\n",
            "***************************************************************************\n",
            "\n",
            "\n",
            "['_C__pr', '__class__', '__delattr__', '__dict__', '__dir__', '__doc__', '__eq__', '__format__', '__ge__', '__getattribute__', '__gt__', '__hash__', '__init__', '__init_subclass__', '__le__', '__lt__', '__module__', '__ne__', '__new__', '__reduce__', '__reduce_ex__', '__repr__', '__setattr__', '__sizeof__', '__str__', '__subclasshook__', '__weakref__', 'f1', 'f2', 'pu']\n",
            "17\n"
          ],
          "name": "stdout"
        }
      ]
    },
    {
      "cell_type": "code",
      "metadata": {
        "id": "NhK1HmvtjQ1L",
        "outputId": "04972dcb-076e-41f9-e093-ea25b757d9c4"
      },
      "source": [
        "print(d.f1(4))"
      ],
      "execution_count": null,
      "outputs": [
        {
          "output_type": "stream",
          "text": [
            "16\n"
          ],
          "name": "stdout"
        }
      ]
    },
    {
      "cell_type": "code",
      "metadata": {
        "id": "6qdunwUcjQ1L",
        "outputId": "baba9e78-9a57-4823-9086-aebbc6cd4c7b"
      },
      "source": [
        "# Protected in Python: ONE _\n",
        "# Public: NO _\n",
        "# Private: TWO _\n",
        "# Convention and not a feature of the programming language. Implementation dependent\n",
        "# Refer: https://docs.python.org/3/tutorial/classes.html#private-variables\n",
        "\n",
        "class C:\n",
        "    def _pr(self, i): # protected due to ONE underscore, implementation dependent, suggested \n",
        "        return 2**i;\n",
        "    \n",
        "    def pu(self, x):\n",
        "        return self._pr(x)+1;\n",
        "\n",
        "print(dir(C))\n",
        "print(\"\\n\\n***************************************************************************\\n\\n\")\n",
        "    \n",
        "class D(C):\n",
        "    def f1(self, i):\n",
        "        return self._pr(i) # accessing private member of base class\n",
        "    \n",
        "    def f2(self, i):\n",
        "        return self.pu(i) # accessing private member of base class\n",
        "    \n",
        "d = D();\n",
        "print(dir(D))\n",
        "\n",
        "print(d.f1(4)) # calling a protected member in base calss from derived class\n"
      ],
      "execution_count": null,
      "outputs": [
        {
          "output_type": "stream",
          "text": [
            "['__class__', '__delattr__', '__dict__', '__dir__', '__doc__', '__eq__', '__format__', '__ge__', '__getattribute__', '__gt__', '__hash__', '__init__', '__init_subclass__', '__le__', '__lt__', '__module__', '__ne__', '__new__', '__reduce__', '__reduce_ex__', '__repr__', '__setattr__', '__sizeof__', '__str__', '__subclasshook__', '__weakref__', '_pr', 'pu']\n",
            "\n",
            "\n",
            "***************************************************************************\n",
            "\n",
            "\n",
            "['__class__', '__delattr__', '__dict__', '__dir__', '__doc__', '__eq__', '__format__', '__ge__', '__getattribute__', '__gt__', '__hash__', '__init__', '__init_subclass__', '__le__', '__lt__', '__module__', '__ne__', '__new__', '__reduce__', '__reduce_ex__', '__repr__', '__setattr__', '__sizeof__', '__str__', '__subclasshook__', '__weakref__', '_pr', 'f1', 'f2', 'pu']\n",
            "16\n"
          ],
          "name": "stdout"
        }
      ]
    },
    {
      "cell_type": "code",
      "metadata": {
        "id": "VxacOLwhjQ1L",
        "outputId": "963b3fa0-2113-4d35-b6b8-2d5dd74a4e4f"
      },
      "source": [
        "c = C();\n",
        "print (c._pr(3))"
      ],
      "execution_count": null,
      "outputs": [
        {
          "output_type": "stream",
          "text": [
            "8\n"
          ],
          "name": "stdout"
        }
      ]
    },
    {
      "cell_type": "code",
      "metadata": {
        "id": "CRJ2uhaojQ1L",
        "outputId": "6e0f4a0d-db95-48ae-d723-ee0b480b6e71"
      },
      "source": [
        "# Constructor overloading:\n",
        "\n",
        "class A:\n",
        "    def __init__(self, i):\n",
        "        self.var1 = i;\n",
        "        self.var2 = 0;\n",
        "        \n",
        "    def __init__(self, i,j):\n",
        "        self.var1 = i;\n",
        "        self.var2 = j;\n",
        "        \n",
        "    def __str__(self):\n",
        "        return \"\\ni=\"+str(self.var1)+\"\\t\"+\"j=\"+str(self.var2)\n",
        "        \n",
        "a1 = A(10);\n",
        "print(a1)\n",
        "\n",
        "# We can overload but can only use the most recent function definition\n",
        "        "
      ],
      "execution_count": null,
      "outputs": [
        {
          "output_type": "error",
          "ename": "TypeError",
          "evalue": "__init__() missing 1 required positional argument: 'j'",
          "traceback": [
            "\u001b[0;31m---------------------------------------------------------------------------\u001b[0m",
            "\u001b[0;31mTypeError\u001b[0m                                 Traceback (most recent call last)",
            "\u001b[0;32m<ipython-input-42-a4511922906c>\u001b[0m in \u001b[0;36m<module>\u001b[0;34m\u001b[0m\n\u001b[1;32m     13\u001b[0m         \u001b[0;32mreturn\u001b[0m \u001b[0;34m\"\\ni=\"\u001b[0m\u001b[0;34m+\u001b[0m\u001b[0mstr\u001b[0m\u001b[0;34m(\u001b[0m\u001b[0mself\u001b[0m\u001b[0;34m.\u001b[0m\u001b[0mvar1\u001b[0m\u001b[0;34m)\u001b[0m\u001b[0;34m+\u001b[0m\u001b[0;34m\"\\t\"\u001b[0m\u001b[0;34m+\u001b[0m\u001b[0;34m\"j=\"\u001b[0m\u001b[0;34m+\u001b[0m\u001b[0mstr\u001b[0m\u001b[0;34m(\u001b[0m\u001b[0mself\u001b[0m\u001b[0;34m.\u001b[0m\u001b[0mvar2\u001b[0m\u001b[0;34m)\u001b[0m\u001b[0;34m\u001b[0m\u001b[0;34m\u001b[0m\u001b[0m\n\u001b[1;32m     14\u001b[0m \u001b[0;34m\u001b[0m\u001b[0m\n\u001b[0;32m---> 15\u001b[0;31m \u001b[0ma1\u001b[0m \u001b[0;34m=\u001b[0m \u001b[0mA\u001b[0m\u001b[0;34m(\u001b[0m\u001b[0;36m10\u001b[0m\u001b[0;34m)\u001b[0m\u001b[0;34m;\u001b[0m\u001b[0;34m\u001b[0m\u001b[0;34m\u001b[0m\u001b[0m\n\u001b[0m\u001b[1;32m     16\u001b[0m \u001b[0mprint\u001b[0m\u001b[0;34m(\u001b[0m\u001b[0ma1\u001b[0m\u001b[0;34m)\u001b[0m\u001b[0;34m\u001b[0m\u001b[0;34m\u001b[0m\u001b[0m\n\u001b[1;32m     17\u001b[0m \u001b[0;34m\u001b[0m\u001b[0m\n",
            "\u001b[0;31mTypeError\u001b[0m: __init__() missing 1 required positional argument: 'j'"
          ]
        }
      ]
    },
    {
      "cell_type": "code",
      "metadata": {
        "id": "U-TTRssUjQ1L",
        "outputId": "8d653b6e-af8d-435c-cbe0-f8a3bc3e3843"
      },
      "source": [
        "a1 = A(10,20);\n",
        "print(a1)"
      ],
      "execution_count": null,
      "outputs": [
        {
          "output_type": "stream",
          "text": [
            "\n",
            "i=10\tj=20\n"
          ],
          "name": "stdout"
        }
      ]
    },
    {
      "cell_type": "code",
      "metadata": {
        "id": "WCM0T9-UjQ1M",
        "outputId": "ea26ef40-acca-4d6e-d2ad-dcb44b3205dd"
      },
      "source": [
        "# Can we call other functions inside __init__?\n",
        "\n",
        "class A:\n",
        "    def __init__(self, i,j):\n",
        "        f(i,j)\n",
        "        \n",
        "    def f(self, i,j):\n",
        "        self.var1 = i;\n",
        "        self.var2 = j;\n",
        "        \n",
        "    def __str__(self):\n",
        "        return \"\\ni=\"+str(self.var1)+\"\\t\"+\"j=\"+str(self.var2)\n",
        "        \n",
        "a1 = A(10,20);\n",
        "print(a1)"
      ],
      "execution_count": null,
      "outputs": [
        {
          "output_type": "error",
          "ename": "NameError",
          "evalue": "name 'f' is not defined",
          "traceback": [
            "\u001b[0;31m---------------------------------------------------------------------------\u001b[0m",
            "\u001b[0;31mNameError\u001b[0m                                 Traceback (most recent call last)",
            "\u001b[0;32m<ipython-input-61-b8f3ad544ae8>\u001b[0m in \u001b[0;36m<module>\u001b[0;34m\u001b[0m\n\u001b[1;32m     12\u001b[0m         \u001b[0;32mreturn\u001b[0m \u001b[0;34m\"\\ni=\"\u001b[0m\u001b[0;34m+\u001b[0m\u001b[0mstr\u001b[0m\u001b[0;34m(\u001b[0m\u001b[0mself\u001b[0m\u001b[0;34m.\u001b[0m\u001b[0mvar1\u001b[0m\u001b[0;34m)\u001b[0m\u001b[0;34m+\u001b[0m\u001b[0;34m\"\\t\"\u001b[0m\u001b[0;34m+\u001b[0m\u001b[0;34m\"j=\"\u001b[0m\u001b[0;34m+\u001b[0m\u001b[0mstr\u001b[0m\u001b[0;34m(\u001b[0m\u001b[0mself\u001b[0m\u001b[0;34m.\u001b[0m\u001b[0mvar2\u001b[0m\u001b[0;34m)\u001b[0m\u001b[0;34m\u001b[0m\u001b[0;34m\u001b[0m\u001b[0m\n\u001b[1;32m     13\u001b[0m \u001b[0;34m\u001b[0m\u001b[0m\n\u001b[0;32m---> 14\u001b[0;31m \u001b[0ma1\u001b[0m \u001b[0;34m=\u001b[0m \u001b[0mA\u001b[0m\u001b[0;34m(\u001b[0m\u001b[0;36m10\u001b[0m\u001b[0;34m,\u001b[0m\u001b[0;36m20\u001b[0m\u001b[0;34m)\u001b[0m\u001b[0;34m;\u001b[0m\u001b[0;34m\u001b[0m\u001b[0;34m\u001b[0m\u001b[0m\n\u001b[0m\u001b[1;32m     15\u001b[0m \u001b[0mprint\u001b[0m\u001b[0;34m(\u001b[0m\u001b[0ma1\u001b[0m\u001b[0;34m)\u001b[0m\u001b[0;34m\u001b[0m\u001b[0;34m\u001b[0m\u001b[0m\n",
            "\u001b[0;32m<ipython-input-61-b8f3ad544ae8>\u001b[0m in \u001b[0;36m__init__\u001b[0;34m(self, i, j)\u001b[0m\n\u001b[1;32m      3\u001b[0m \u001b[0;32mclass\u001b[0m \u001b[0mA\u001b[0m\u001b[0;34m:\u001b[0m\u001b[0;34m\u001b[0m\u001b[0;34m\u001b[0m\u001b[0m\n\u001b[1;32m      4\u001b[0m     \u001b[0;32mdef\u001b[0m \u001b[0m__init__\u001b[0m\u001b[0;34m(\u001b[0m\u001b[0mself\u001b[0m\u001b[0;34m,\u001b[0m \u001b[0mi\u001b[0m\u001b[0;34m,\u001b[0m\u001b[0mj\u001b[0m\u001b[0;34m)\u001b[0m\u001b[0;34m:\u001b[0m\u001b[0;34m\u001b[0m\u001b[0;34m\u001b[0m\u001b[0m\n\u001b[0;32m----> 5\u001b[0;31m         \u001b[0mf\u001b[0m\u001b[0;34m(\u001b[0m\u001b[0mi\u001b[0m\u001b[0;34m,\u001b[0m\u001b[0mj\u001b[0m\u001b[0;34m)\u001b[0m\u001b[0;34m\u001b[0m\u001b[0;34m\u001b[0m\u001b[0m\n\u001b[0m\u001b[1;32m      6\u001b[0m \u001b[0;34m\u001b[0m\u001b[0m\n\u001b[1;32m      7\u001b[0m     \u001b[0;32mdef\u001b[0m \u001b[0mf\u001b[0m\u001b[0;34m(\u001b[0m\u001b[0mself\u001b[0m\u001b[0;34m,\u001b[0m \u001b[0mi\u001b[0m\u001b[0;34m,\u001b[0m\u001b[0mj\u001b[0m\u001b[0;34m)\u001b[0m\u001b[0;34m:\u001b[0m\u001b[0;34m\u001b[0m\u001b[0;34m\u001b[0m\u001b[0m\n",
            "\u001b[0;31mNameError\u001b[0m: name 'f' is not defined"
          ]
        }
      ]
    },
    {
      "cell_type": "code",
      "metadata": {
        "id": "9KJ2ENm4jQ1M",
        "outputId": "c6f2c416-fd47-4bc1-81e1-9185da294245"
      },
      "source": [
        "class A:\n",
        "        \n",
        "    def __init__(self, i,j):\n",
        "        self.f(i,j)\n",
        "    \n",
        "    def f(self, i,j):\n",
        "        self.var1 = i;\n",
        "        self.var2 = j;\n",
        "        \n",
        "    def __str__(self):\n",
        "        return \"\\ni=\"+str(self.var1)+\"\\t\"+\"j=\"+str(self.var2)\n",
        "        \n",
        "a1 = A(10,20);\n",
        "print(a1)"
      ],
      "execution_count": null,
      "outputs": [
        {
          "output_type": "stream",
          "text": [
            "\n",
            "i=10\tj=20\n"
          ],
          "name": "stdout"
        }
      ]
    },
    {
      "cell_type": "markdown",
      "metadata": {
        "id": "aboiFNwFjQ1M"
      },
      "source": [
        "- In later sections, we will use many major libraries where we will revisit OOP-concepts again and again\n",
        "- We will extend some classes from major libraries (ML/DS/Plotting/Stats/DL) to suit our needs"
      ]
    }
  ]
}