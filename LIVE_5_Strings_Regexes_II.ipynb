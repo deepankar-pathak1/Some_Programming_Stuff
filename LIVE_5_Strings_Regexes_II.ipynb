{
  "nbformat": 4,
  "nbformat_minor": 0,
  "metadata": {
    "celltoolbar": "Slideshow",
    "kernelspec": {
      "display_name": "Python 3",
      "language": "python",
      "name": "python3"
    },
    "language_info": {
      "codemirror_mode": {
        "name": "ipython",
        "version": 3
      },
      "file_extension": ".py",
      "mimetype": "text/x-python",
      "name": "python",
      "nbconvert_exporter": "python",
      "pygments_lexer": "ipython3",
      "version": "3.7.3"
    },
    "colab": {
      "name": "LIVE_5_Strings_Regexes_II.ipynb",
      "provenance": [],
      "include_colab_link": true
    }
  },
  "cells": [
    {
      "cell_type": "markdown",
      "metadata": {
        "id": "view-in-github",
        "colab_type": "text"
      },
      "source": [
        "<a href=\"https://colab.research.google.com/github/deepankar-pathak1/Some_Programming_Stuff/blob/main/LIVE_5_Strings_Regexes_II.ipynb\" target=\"_parent\"><img src=\"https://colab.research.google.com/assets/colab-badge.svg\" alt=\"Open In Colab\"/></a>"
      ]
    },
    {
      "cell_type": "markdown",
      "metadata": {
        "id": "yHHtYdNv3QnK"
      },
      "source": [
        "## LIVE 5: Strings and Regex-II\n",
        " - Focus: Basics of strings and regex in Python +  interesting problem solving. \n",
        " - Prereq: Basic knowledge of Strings and Regex in Python + previous code-sessions.\n",
        " - Reference for basics: \n",
        "     - https://docs.python.org/3/howto/regex.html\n",
        "     - https://docs.python.org/3/library/re.html\n",
        "     - https://www.w3schools.com/python/python_strings.asp\n",
        "     - https://www.geeksforgeeks.org/python-strings/\n",
        "     \n",
        "     \n",
        "Slide-show: https://medium.com/@mjspeck/presenting-code-using-jupyter-notebook-slides-a8a3c3b59d67\n"
      ]
    },
    {
      "cell_type": "markdown",
      "metadata": {
        "id": "fNdnKwQ83QnN"
      },
      "source": [
        "## Problem 2: Extract data from a PDF invoice\n",
        "- Given a PDF [https://slicedinvoices.com/pdf/wordpress-pdf-invoice-plugin-sample.pdf], extract predefined key fields from this PDF\n",
        "- Assume the format is fixed.\n",
        "\n"
      ]
    },
    {
      "cell_type": "code",
      "metadata": {
        "id": "apLgMIUD3QnO",
        "outputId": "9aed415c-8f91-440e-c7bf-34bf9ccded44"
      },
      "source": [
        "# https://realpython.com/pdf-python/#history-of-pypdf-pypdf2-and-pypdf4\n",
        "\n",
        "!pip3 install pyPDF4\n"
      ],
      "execution_count": null,
      "outputs": [
        {
          "output_type": "stream",
          "text": [
            "Requirement already satisfied: pyPDF4 in /usr/local/lib/python3.7/site-packages (1.27.0)\r\n"
          ],
          "name": "stdout"
        }
      ]
    },
    {
      "cell_type": "code",
      "metadata": {
        "id": "nbyj-zAg3QnS",
        "outputId": "68778919-1263-40f5-accb-fe1b4f37ab96"
      },
      "source": [
        "# Google \"pyPDF extract text\" ---> https://www.soudegesu.com/en/post/python/extract-text-from-pdf-with-pypdf2/\n",
        "import PyPDF4\n",
        "\n",
        "FILE_PATH = './invoice.pdf'\n",
        "\n",
        "with open(FILE_PATH, mode='rb') as f:\n",
        "    reader = PyPDF4.PdfFileReader(f)\n",
        "    page = reader.getPage(0)\n",
        "    print(page.extractText())\n"
      ],
      "execution_count": null,
      "outputs": [
        {
          "output_type": "stream",
          "text": [
            "Invoice\n",
            "Payment is due within 30 days from date of invoice. Late payment is subject to fees of 5% per month.\n",
            "Thanks for choosing \n",
            "DEMO - Sliced Invoices\n",
            " | \n",
            "admin@slicedinvoices.com\n",
            "Page 1/1\n",
            "From:\n",
            "DEMO - Sliced Invoices\n",
            "Suite 5A-1204\n",
            "123 Somewhere Street\n",
            "Your City AZ 12345\n",
            "admin@slicedinvoices.com\n",
            "Invoice Number\n",
            "INV-3337\n",
            "Order Number\n",
            "12345\n",
            "Invoice Date\n",
            "January 25, 2016\n",
            "Due Date\n",
            "January 31, 2016\n",
            "Total Due\n",
            "$93.50\n",
            "To:\n",
            "Test Business\n",
            "123 Somewhere St\n",
            "Melbourne, VIC 3000\n",
            "test@test.com\n",
            "Hrs/Qty\n",
            "Service\n",
            "Rate/Price\n",
            "Adjust\n",
            "Sub Total\n",
            "1.00\n",
            "Web Design\n",
            "This is a sample description...\n",
            "$85.00\n",
            "0.00%\n",
            "$85.00\n",
            "Sub Total\n",
            "$85.00\n",
            "Tax\n",
            "$8.50\n",
            "Total\n",
            "$93.50\n",
            "ANZ Bank\n",
            "ACC # 1234 1234\n",
            "BSB # 4321 432\n",
            "Paid\n",
            "\n"
          ],
          "name": "stdout"
        }
      ]
    },
    {
      "cell_type": "code",
      "metadata": {
        "id": "l6U49A5d3QnU"
      },
      "source": [
        "import PyPDF4\n",
        "\n",
        "FILE_PATH = './invoice.pdf'\n",
        "\n",
        "with open(FILE_PATH, mode='rb') as f:\n",
        "    reader = PyPDF4.PdfFileReader(f)\n",
        "    page = reader.getPage(0)\n",
        "    txt = page.extractText();"
      ],
      "execution_count": null,
      "outputs": []
    },
    {
      "cell_type": "code",
      "metadata": {
        "id": "PuxrZ4XN3QnW",
        "outputId": "bc08d2ca-1589-4d9b-f59d-620225381c20"
      },
      "source": [
        "# extract invoice number\n",
        "\n",
        "m = re.findall(\"INV-[0-9]*\", txt)\n",
        "print(m)\n"
      ],
      "execution_count": null,
      "outputs": [
        {
          "output_type": "stream",
          "text": [
            "['INV-3337']\n"
          ],
          "name": "stdout"
        }
      ]
    },
    {
      "cell_type": "code",
      "metadata": {
        "id": "4M-Id54A3QnZ",
        "outputId": "9b5e5524-ee57-4459-af8f-53ccf2169de4"
      },
      "source": [
        "# extract amounts\n",
        "m = re.findall(\"$[0-9]*\\.[0-9]*\", txt)\n",
        "print(m)\n"
      ],
      "execution_count": null,
      "outputs": [
        {
          "output_type": "stream",
          "text": [
            "[]\n"
          ],
          "name": "stdout"
        }
      ]
    },
    {
      "cell_type": "code",
      "metadata": {
        "id": "Qhsn4aM73Qnb",
        "outputId": "a0264fbd-c7cb-4673-e27a-5a2cfa8d4e1c"
      },
      "source": [
        "\n",
        "# extract amounts\n",
        "m = re.findall(\"\\$[0-9]*\\.[0-9]*\", txt)\n",
        "print(m)\n"
      ],
      "execution_count": null,
      "outputs": [
        {
          "output_type": "stream",
          "text": [
            "['$93.50', '$85.00', '$85.00', '$85.00', '$8.50', '$93.50']\n"
          ],
          "name": "stdout"
        }
      ]
    },
    {
      "cell_type": "code",
      "metadata": {
        "id": "swX54Qvn3Qne",
        "outputId": "a5013f98-dc54-4781-f6b0-e9f101f09d4f"
      },
      "source": [
        "# Extract Total Due:\n",
        "m = re.findall(\"Total Due\\$[0-9]*\\.[0-9]*\", txt)\n",
        "print(m)\n",
        "\n",
        "# Any suggestions?"
      ],
      "execution_count": null,
      "outputs": [
        {
          "output_type": "stream",
          "text": [
            "[]\n"
          ],
          "name": "stdout"
        }
      ]
    },
    {
      "cell_type": "code",
      "metadata": {
        "id": "4krGC8uF3Qnh",
        "outputId": "0c7e6a85-ff92-4ab4-ca2b-bffb00be078d"
      },
      "source": [
        "\n",
        "# Extract Total Due:\n",
        "m = re.findall(\"Total Due\\n\\$[0-9]*\\.[0-9]*\", txt)\n",
        "print(m)"
      ],
      "execution_count": null,
      "outputs": [
        {
          "output_type": "stream",
          "text": [
            "['Total Due\\n$93.50']\n"
          ],
          "name": "stdout"
        }
      ]
    },
    {
      "cell_type": "code",
      "metadata": {
        "id": "CQsJAIpc3Qnk",
        "outputId": "3f0061e1-771b-49d7-b125-0d648397e065"
      },
      "source": [
        "print(re.findall(\"\\$[0-9]*\\.[0-9]*\",m[0]))"
      ],
      "execution_count": null,
      "outputs": [
        {
          "output_type": "stream",
          "text": [
            "['$93.50']\n"
          ],
          "name": "stdout"
        }
      ]
    },
    {
      "cell_type": "code",
      "metadata": {
        "id": "xYA-LjED3Qnm",
        "outputId": "64440fa3-5fbe-4a3f-ff31-9024161c34f9"
      },
      "source": [
        "# Extract dates in this doc gieven a fixed format using line number\n",
        "res = re.split(\"\\n\", txt);\n",
        "print(res)\n",
        "\n",
        "print(\"\\n\\n Invoice date:\" +res[18])"
      ],
      "execution_count": null,
      "outputs": [
        {
          "output_type": "stream",
          "text": [
            "['Invoice', 'Payment is due within 30 days from date of invoice. Late payment is subject to fees of 5% per month.', 'Thanks for choosing ', 'DEMO - Sliced Invoices', ' | ', 'admin@slicedinvoices.com', 'Page 1/1', 'From:', 'DEMO - Sliced Invoices', 'Suite 5A-1204', '123 Somewhere Street', 'Your City AZ 12345', 'admin@slicedinvoices.com', 'Invoice Number', 'INV-3337', 'Order Number', '12345', 'Invoice Date', 'January 25, 2016', 'Due Date', 'January 31, 2016', 'Total Due', '$93.50', 'To:', 'Test Business', '123 Somewhere St', 'Melbourne, VIC 3000', 'test@test.com', 'Hrs/Qty', 'Service', 'Rate/Price', 'Adjust', 'Sub Total', '1.00', 'Web Design', 'This is a sample description...', '$85.00', '0.00%', '$85.00', 'Sub Total', '$85.00', 'Tax', '$8.50', 'Total', '$93.50', 'ANZ Bank', 'ACC # 1234 1234', 'BSB # 4321 432', 'Paid', '']\n",
            "\n",
            "\n",
            " Invocie date:January 25, 2016\n"
          ],
          "name": "stdout"
        }
      ]
    },
    {
      "cell_type": "markdown",
      "metadata": {
        "id": "oBpdyeiB3Qno"
      },
      "source": [
        "#### NOTE: Web-scarping\n",
        "- We can use \"re\" for extracting data from web-scarping. \n",
        "- But, it is better to sue ebautiful-soup like libraries as they use the structure of HTML \n",
        "- https://www.crummy.com/software/BeautifulSoup/bs4/doc/\n",
        "- We have done an earlier live session on web-scraping: https://youtu.be/EYzTeb_VXoI"
      ]
    },
    {
      "cell_type": "markdown",
      "metadata": {
        "id": "QGGX_aHD3Qno"
      },
      "source": [
        "### Ques: How do we handle cases where we want to extract data from multiple invoice formats?\n",
        "\n",
        "\n",
        "#### Assignment: Extract email-addresses from the PDF\n"
      ]
    },
    {
      "cell_type": "markdown",
      "metadata": {
        "id": "lZ783On23Qnp"
      },
      "source": [
        "## Problem 3: Check if a number is a valid integer or float\n",
        "- TRUE: 12, 12.5, 1e10, 1e+6, 1e-10, -2.3, -2.4e-4 \n",
        "- FALSE: abc, -2.4e4.5, 1b2.4\n",
        "- TRICKY: Handle all the cases carefully.\n",
        "- Easy problem to code. But, hard not to miss cases.\n",
        "- Popular interview question to understand handling boundary cases.\n"
      ]
    },
    {
      "cell_type": "code",
      "metadata": {
        "id": "-aUVOnkK3Qnp"
      },
      "source": [
        "# Source: https://www.geeksforgeeks.org/check-given-string-valid-number-integer-floating-point/\n",
        "# Sometimes, reading other's code is a good way to learn.\n",
        "# Explanatory comments are very important in your code. \n",
        "# We added more comments and clearly listed cases handled for better interpretability.\n",
        "\n",
        "\n",
        "# This code elimiates each of the FALSE cases and finally limits to only TRUE cases.\n",
        "# is a valid number \n",
        "def valid_number(str): \n",
        "    i = 0\n",
        "    j = len(str) - 1\n",
        "  \n",
        "    # Handling whitespaces: \"   123   \"\n",
        "    while i<len(str) and str[i] == ' ': # remove  whitespaces int he beginning\n",
        "        i += 1\n",
        "    \n",
        "    while j >= 0 and str[j] == ' ': # remove whitespaces at the end\n",
        "        j -= 1\n",
        "  \n",
        "    if i > j: # if only whitespaces in the given string\n",
        "        return False\n",
        "    \n",
        "    #str[i...j] is a whitespace removed (from beginning and end) string \n",
        "  \n",
        "    # if string is of length 1 and the only \n",
        "    # character is not a digit \n",
        "    if (i == j and not(str[i] >= '0' and \n",
        "                       str[i] <= '9')): \n",
        "        return False\n",
        "  \n",
        "    \n",
        "    # If the 1st char is not '+', '-', '.' or digit \n",
        "    if (str[i] != '.' and str[i] != '+' and \n",
        "        str[i] != '-' and not(str[i] >= '0' and \n",
        "        str[i] <= '9')): \n",
        "        return False\n",
        "  \n",
        "    # To check if a '.' or 'e' is found in given \n",
        "    # string.We use this flag to make sure that \n",
        "    # either of them appear only once. \n",
        "    flagDotOrE = False\n",
        "  \n",
        "    for i in range(j + 1): \n",
        "          \n",
        "        # If any of the char does not belong to \n",
        "        # {digit, +, -,., e} \n",
        "        if (str[i] != 'e' and str[i] != '.' and \n",
        "            str[i] != '+' and str[i] != '-' and not\n",
        "           (str[i] >= '0' and str[i] <= '9')): \n",
        "            return False # \"a123\" good to write cases eliminated\n",
        "  \n",
        "        if str[i] == '.': \n",
        "            \n",
        "            # check if the char e has already \n",
        "            # occured before '.' If yes, return 0 \n",
        "            if flagDotOrE: \n",
        "                return False #\"1e2.3\", \"1.2.3\"\n",
        "            \n",
        "            if i + 1 > len(str): \n",
        "                return False # \"123.\"\n",
        "            \n",
        "            if (not(str[i + 1] >= '0' and \n",
        "                    str[i + 1] <= '9')): \n",
        "                return False # \"123a\"\n",
        "\n",
        "            flagDotOrE = True\n",
        "            \n",
        "        elif str[i] == 'e': \n",
        "              \n",
        "            # set flagDotOrE = 1 when e is encountered. \n",
        "            flagDotOrE = True\n",
        "  \n",
        "            # if there is no digit before e \n",
        "            if (not(str[i - 1] >= '0' and \n",
        "                    str[i - 1] <= '9')): \n",
        "                return False # \"e123\"\n",
        "                  \n",
        "            # if e is the last character \n",
        "            if i + 1 > len(str): \n",
        "                return False # \"123e\"\n",
        "                  \n",
        "            # if e is not followed by \n",
        "            # '+', '-' or a digit \n",
        "            if (str[i + 1] != '+' and str[i + 1] != '-' and \n",
        "               (str[i + 1] >= '0' and str[i] <= '9')): \n",
        "                return False # \"1e.\" \"1ea\"\n",
        "                  \n",
        "    # If the string skips all the \n",
        "    # above cases, it must be a numeric string \n",
        "    return True\n",
        "  "
      ],
      "execution_count": null,
      "outputs": []
    },
    {
      "cell_type": "code",
      "metadata": {
        "id": "j7fGvqSw3Qns",
        "outputId": "85928cf2-85da-4b39-b5c0-e17748d690b3"
      },
      "source": [
        "print(valid_number(\"1e5\"))"
      ],
      "execution_count": null,
      "outputs": [
        {
          "output_type": "stream",
          "text": [
            "True\n"
          ],
          "name": "stdout"
        }
      ]
    },
    {
      "cell_type": "code",
      "metadata": {
        "id": "H5CeqDxS3Qnu",
        "outputId": "7a953046-3a3c-4db8-fbd2-bddb38017dd6"
      },
      "source": [
        "print(valid_number(\"1e1.5\"))"
      ],
      "execution_count": null,
      "outputs": [
        {
          "output_type": "stream",
          "text": [
            "False\n"
          ],
          "name": "stdout"
        }
      ]
    },
    {
      "cell_type": "code",
      "metadata": {
        "id": "XXkT8Hvg3Qnx",
        "outputId": "f147a6d4-1146-45c1-cce0-12144cc123c2"
      },
      "source": [
        "print(valid_number(\"1e+15\"))"
      ],
      "execution_count": null,
      "outputs": [
        {
          "output_type": "stream",
          "text": [
            "True\n"
          ],
          "name": "stdout"
        }
      ]
    },
    {
      "cell_type": "code",
      "metadata": {
        "id": "MFEM9AhM3Qnz",
        "outputId": "7ff6faa2-45c6-409c-9dd0-2d6f400d66f7"
      },
      "source": [
        "print(valid_number(\"-1.2e-15\"))"
      ],
      "execution_count": null,
      "outputs": [
        {
          "output_type": "stream",
          "text": [
            "True\n"
          ],
          "name": "stdout"
        }
      ]
    },
    {
      "cell_type": "markdown",
      "metadata": {
        "id": "TZ0MK63V3Qn1"
      },
      "source": [
        "## Problem 4:  Regex matching problem\n",
        "- \"?\" matches a single character\n",
        "- \"*\" matches zero or more charcters\n",
        "- Given a pattern(p) and a string(s), does p match s?\n",
        "- examples: \n",
        "    - TRUE: (\"\\*\", \"ab\"), (\"?a\" ,\"ba\"), (\"?a\" ,\"aa\"), (\"a\\*\" ,\"a\")\n",
        "    - FALSE: (\"\\*a\", \"ab\"), (\"?a\" ,\"baa\"), (\"?a\" ,\"a\"), (\"a\\*\" ,\"ba\")\n",
        "\n",
        "- Very popular interview question at product-based companies for SDEs.\n",
        "- Small variations of this are often used in interviews\n",
        "\n",
        "- Any suggestions?\n"
      ]
    },
    {
      "cell_type": "code",
      "metadata": {
        "id": "NzqQ6L_T3Qn1"
      },
      "source": [
        "# Handle all cases of recursion thoroughly.\n",
        "\n",
        "def isMatch(p,s):\n",
        "    \n",
        "    print(p,s) # print statemnt for debugging\n",
        "    \n",
        "    # boundary cases of recursion\n",
        "    if p == s:\n",
        "        return True\n",
        "    \n",
        "    if p == \"*\":\n",
        "        return True\n",
        "    \n",
        "    if p == \"\" or s == \"\":\n",
        "        return False\n",
        "    \n",
        "    # recursion case-1\n",
        "    if p[0] == s[0] or p[0] == '?':\n",
        "        return isMatch(p[1:], s[1:])\n",
        "    \n",
        "    # recursion-case-2\n",
        "    if p[0] == '*':\n",
        "        return ( isMatch( p[1:], s) or isMatch( p, s[1:]))\n",
        "    \n",
        "    # last case: if p[0] is a character\n",
        "    if  p[0] != s[0]:\n",
        "        return False;\n",
        "        "
      ],
      "execution_count": null,
      "outputs": []
    },
    {
      "cell_type": "code",
      "metadata": {
        "id": "0843TSx13Qn3",
        "outputId": "b75460c0-96ca-4812-eee2-bf7e32f7dcae"
      },
      "source": [
        "print(isMatch(\"*\",\"ab\"))\n"
      ],
      "execution_count": null,
      "outputs": [
        {
          "output_type": "stream",
          "text": [
            "* ab\n",
            "True\n"
          ],
          "name": "stdout"
        }
      ]
    },
    {
      "cell_type": "code",
      "metadata": {
        "id": "liuwRz0d3Qn5",
        "outputId": "2d7733b4-70ba-41b3-dc50-23d9444ac436"
      },
      "source": [
        "print(isMatch(\"?a\" ,\"baa\"))"
      ],
      "execution_count": null,
      "outputs": [
        {
          "output_type": "stream",
          "text": [
            "?a baa\n",
            "a aa\n",
            " a\n",
            "False\n"
          ],
          "name": "stdout"
        }
      ]
    },
    {
      "cell_type": "code",
      "metadata": {
        "id": "m_Huhj9W3Qn7",
        "outputId": "1d0b2044-7f1f-4c00-a3b3-f68fefb246f7"
      },
      "source": [
        "print(isMatch(\"a*\" ,\"ba\"))"
      ],
      "execution_count": null,
      "outputs": [
        {
          "output_type": "stream",
          "text": [
            "a* ba\n",
            "False\n"
          ],
          "name": "stdout"
        }
      ]
    },
    {
      "cell_type": "code",
      "metadata": {
        "id": "YfS0URxs3Qn-",
        "outputId": "2e9744ee-a09c-44d6-b501-93853762d0b2"
      },
      "source": [
        "# Worst case Time Complexity: T(n) = T(n-1) + T(n-1) = 2* T(n-1)\n",
        "\n",
        "# => T(n) = 0(2^n) [as shown below]\n",
        "\n",
        "\n",
        "from IPython.display import Image\n",
        "Image(url= \"https://i.imgur.com/dse47H3.png\")\n"
      ],
      "execution_count": null,
      "outputs": [
        {
          "output_type": "execute_result",
          "data": {
            "text/html": [
              "<img src=\"https://i.imgur.com/dse47H3.png\"/>"
            ],
            "text/plain": [
              "<IPython.core.display.Image object>"
            ]
          },
          "metadata": {
            "tags": []
          },
          "execution_count": 153
        }
      ]
    },
    {
      "cell_type": "code",
      "metadata": {
        "id": "ztIbB24s3QoA",
        "outputId": "d69c0c69-c4a9-4c0e-bc4a-fa6697ff9702"
      },
      "source": [
        "# Can we do better?\n",
        "\n",
        "Image(url= \"https://i.imgur.com/Rx6tN8a.png\")"
      ],
      "execution_count": null,
      "outputs": [
        {
          "output_type": "execute_result",
          "data": {
            "text/html": [
              "<img src=\"https://i.imgur.com/Rx6tN8a.png\"/>"
            ],
            "text/plain": [
              "<IPython.core.display.Image object>"
            ]
          },
          "metadata": {
            "tags": []
          },
          "execution_count": 155
        }
      ]
    },
    {
      "cell_type": "code",
      "metadata": {
        "id": "dMEqlmG63QoC",
        "outputId": "99f487fd-22cb-485f-e06e-4747eba70ba6"
      },
      "source": [
        "# Overlapping sub-problems: \n",
        "# Why not store solutions to already solved problems in a 2D array of [0...m-1][0...n-1]\n",
        "# Dynamic programming: Recursion + overlapping subproblems\n",
        "\n",
        "# We discussed this in our course when we learn back-propogation in DL.\n",
        "\n",
        "# DONOT need to use recursion also now. Can solve iteratively.\n",
        "\n",
        "Image(url= \"https://i.imgur.com/k6ZTMcm.png\")\n"
      ],
      "execution_count": null,
      "outputs": [
        {
          "output_type": "execute_result",
          "data": {
            "text/html": [
              "<img src=\"https://i.imgur.com/k6ZTMcm.png\"/>"
            ],
            "text/plain": [
              "<IPython.core.display.Image object>"
            ]
          },
          "metadata": {
            "tags": []
          },
          "execution_count": 164
        }
      ]
    },
    {
      "cell_type": "code",
      "metadata": {
        "id": "WJPlwMl73QoF"
      },
      "source": [
        "# Source: https://leetcode.com/problems/wildcard-matching/solution/\n",
        "# GIVEN THE ABOVE INUTITON, READING THIS CODE SHOULD BE STRAIGHT FORWARD\n",
        "# Time Complx: O(m*n).\n",
        "\n",
        "# Exercise: Go through this code line by line while keeping the logic in mind!\n",
        "\n",
        "def isMatchDP(p,s):\n",
        "    s_len = len(s)\n",
        "    p_len = len(p)\n",
        "        \n",
        "    # base cases\n",
        "    if p == s or p == '*':\n",
        "        return True\n",
        "    if p == '' or s == '':\n",
        "        return False\n",
        "        \n",
        "    # init all matrix except [0][0] element as False\n",
        "    d = [ [False] * (s_len + 1) for _ in range(p_len + 1)]\n",
        "    d[0][0] = True\n",
        "        \n",
        "    # DP compute \n",
        "    for p_idx in range(1, p_len + 1):\n",
        "        \n",
        "        # the current character in the pattern is '*'\n",
        "        if p[p_idx - 1] == '*':\n",
        "            \n",
        "            s_idx = 1\n",
        "            \n",
        "            # d[p_idx - 1][s_idx - 1] is a string-pattern match \n",
        "            # on the previous step, i.e. one character before.\n",
        "            # Find the first idx in string with the previous math. \n",
        "\n",
        "            # p=abcd*  s=abcdefg\n",
        "            while not d[p_idx - 1][s_idx - 1] and s_idx < s_len + 1:\n",
        "                s_idx += 1\n",
        "                \n",
        "            # If (string) matches (pattern), \n",
        "            # when (string) matches (pattern)* as well\n",
        "            d[p_idx][s_idx - 1] = d[p_idx - 1][s_idx - 1]\n",
        "            \n",
        "            # If (string) matches (pattern), \n",
        "            # when (string)(whatever_characters) matches (pattern)* as well\n",
        "            while s_idx < s_len + 1:\n",
        "                d[p_idx][s_idx] = True\n",
        "                s_idx += 1\n",
        "                \n",
        "        # the current character in the pattern is '?'\n",
        "        elif p[p_idx - 1] == '?':\n",
        "            for s_idx in range(1, s_len + 1): \n",
        "                d[p_idx][s_idx] = d[p_idx - 1][s_idx - 1] \n",
        "        \n",
        "        # the current character in the pattern is not '*' or '?'\n",
        "        else:\n",
        "            for s_idx in range(1, s_len + 1): \n",
        "                # Match is possible if there is a previous match\n",
        "                # and current characters are the same\n",
        "                d[p_idx][s_idx] = \\\n",
        "                d[p_idx - 1][s_idx - 1] and p[p_idx - 1] == s[s_idx - 1]  \n",
        "                                                               \n",
        "        return d[p_len][s_len]"
      ],
      "execution_count": null,
      "outputs": []
    },
    {
      "cell_type": "code",
      "metadata": {
        "id": "_qur1tED3QoH",
        "outputId": "2f8e193b-b1fd-4c1a-ebbd-cd64bc1feb55"
      },
      "source": [
        "print(isMatchDP(\"a*\" ,\"ba\"))"
      ],
      "execution_count": null,
      "outputs": [
        {
          "output_type": "stream",
          "text": [
            "False\n"
          ],
          "name": "stdout"
        }
      ]
    },
    {
      "cell_type": "markdown",
      "metadata": {
        "id": "2jNOfua03QoJ"
      },
      "source": [
        "### Next session: Python's inbuilt data-structures: List, Dict, Set, Tuple "
      ]
    }
  ]
}