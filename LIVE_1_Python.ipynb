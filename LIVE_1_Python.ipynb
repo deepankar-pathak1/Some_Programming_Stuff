{
  "nbformat": 4,
  "nbformat_minor": 0,
  "metadata": {
    "kernelspec": {
      "display_name": "Python 3",
      "language": "python",
      "name": "python3"
    },
    "language_info": {
      "codemirror_mode": {
        "name": "ipython",
        "version": 2
      },
      "file_extension": ".py",
      "mimetype": "text/x-python",
      "name": "python",
      "nbconvert_exporter": "python",
      "pygments_lexer": "ipython2",
      "version": "2.7.16"
    },
    "colab": {
      "name": "LIVE-1_Python.ipynb",
      "provenance": [],
      "include_colab_link": true
    }
  },
  "cells": [
    {
      "cell_type": "markdown",
      "metadata": {
        "id": "view-in-github",
        "colab_type": "text"
      },
      "source": [
        "<a href=\"https://colab.research.google.com/github/deepankar-pathak1/Some_Programming_Stuff/blob/main/LIVE_1_Python.ipynb\" target=\"_parent\"><img src=\"https://colab.research.google.com/assets/colab-badge.svg\" alt=\"Open In Colab\"/></a>"
      ]
    },
    {
      "cell_type": "markdown",
      "metadata": {
        "id": "KTG-TX8ucJfL"
      },
      "source": [
        "## Objective: Learning to solve basic Python problems\n",
        "\n",
        "Prerequisites: Module 1 listed @ https://www.appliedaicourse.com/course/11/Applied-Machine-learning-course - SQL\n",
        "\n",
        "Tackle few simple problems relvant to AI/ML\n",
        "    - Break a problem into smaller sub-problems.\n",
        "    - Connecting the dots from sub-problems to coding-concepts.\n",
        "    - Code-walkthrough + Putting it all together.\n",
        "    - More focus on common errors and mistakes + reading function reference + fixing bugs\n",
        "    - Exercise-problems for practice.\n",
        "    - Introduce new concepts as we need.\n",
        "    - Good programmers may not benifit much from this session.\n",
        "    "
      ]
    },
    {
      "cell_type": "markdown",
      "metadata": {
        "id": "9vsCZA9NcJfM"
      },
      "source": [
        "### Problem 1: Add two randomly generated NumPy matrices using loops \n",
        "    - Sub-problems\n",
        "    - Subproblems ---> coding concepts\n",
        "    - Code-walkthrough + Mistakes\n",
        "    - Exercise: Add two randomly generated NumPy 3D-matrices(tensor) using loops "
      ]
    },
    {
      "cell_type": "code",
      "metadata": {
        "id": "PZ1lLtGDcJfN",
        "outputId": "1eb3ddbd-b2b4-4f2a-d351-80c622a17c0f"
      },
      "source": [
        "# create random matrix A1 of size 5X4.\n",
        "### Google \" numpy create random matrices \" & Read through the top 4-5 links\n",
        "### https://www.codespeedy.com/how-to-create-matrix-of-random-numbers-in-python-numpy/\n",
        "\n",
        "import numpy as np\n",
        "A1 = np.random.rand(5,4) # read documentation to understand the params. Google \"np.random.rand reference\" ---> https://docs.scipy.org/doc/numpy-1.15.1/reference/generated/numpy.random.rand.html\n",
        "\n",
        "##COMMON-ERROR: np.random.rand(4,5)\n",
        "##COMMON_ERROR: \n",
        "\n",
        "print(A1) # always print to ensure that everyhitng works fine.\n",
        "\n",
        "print(A1.shape)\n"
      ],
      "execution_count": null,
      "outputs": [
        {
          "output_type": "stream",
          "text": [
            "[[0.35642026 0.94387108 0.93605442 0.15648256]\n",
            " [0.69915373 0.17458507 0.306629   0.16425707]\n",
            " [0.94831413 0.42031154 0.66840086 0.65685284]\n",
            " [0.1885063  0.96909774 0.35919391 0.6547664 ]\n",
            " [0.39592277 0.38989086 0.68251779 0.45361794]]\n",
            "(5, 4)\n"
          ],
          "name": "stdout"
        }
      ]
    },
    {
      "cell_type": "code",
      "metadata": {
        "id": "GbLb9DgccJfS",
        "outputId": "bafbe9bf-6140-4737-949a-71df90ec2394"
      },
      "source": [
        "print(A1.shape()); #COMMON-ERROR"
      ],
      "execution_count": null,
      "outputs": [
        {
          "output_type": "error",
          "ename": "TypeError",
          "evalue": "'tuple' object is not callable",
          "traceback": [
            "\u001b[0;31m---------------------------------------------------------------------------\u001b[0m",
            "\u001b[0;31mTypeError\u001b[0m                                 Traceback (most recent call last)",
            "\u001b[0;32m<ipython-input-4-7ac64a307e9c>\u001b[0m in \u001b[0;36m<module>\u001b[0;34m()\u001b[0m\n\u001b[0;32m----> 1\u001b[0;31m \u001b[0;32mprint\u001b[0m\u001b[0;34m(\u001b[0m\u001b[0mA1\u001b[0m\u001b[0;34m.\u001b[0m\u001b[0mshape\u001b[0m\u001b[0;34m(\u001b[0m\u001b[0;34m)\u001b[0m\u001b[0;34m)\u001b[0m\u001b[0;34m;\u001b[0m \u001b[0;31m#COMMON-ERROR\u001b[0m\u001b[0;34m\u001b[0m\u001b[0m\n\u001b[0m",
            "\u001b[0;31mTypeError\u001b[0m: 'tuple' object is not callable"
          ]
        }
      ]
    },
    {
      "cell_type": "code",
      "metadata": {
        "id": "RE7j7l3DcJfV",
        "outputId": "7e1498a6-fbd5-432e-bdab-d35b7da7f103"
      },
      "source": [
        "print(A1.type); # COMMON-ERROR"
      ],
      "execution_count": null,
      "outputs": [
        {
          "output_type": "error",
          "ename": "AttributeError",
          "evalue": "'numpy.ndarray' object has no attribute 'type'",
          "traceback": [
            "\u001b[0;31m---------------------------------------------------------------------------\u001b[0m",
            "\u001b[0;31mAttributeError\u001b[0m                            Traceback (most recent call last)",
            "\u001b[0;32m<ipython-input-8-8e864547c389>\u001b[0m in \u001b[0;36m<module>\u001b[0;34m()\u001b[0m\n\u001b[0;32m----> 1\u001b[0;31m \u001b[0;32mprint\u001b[0m\u001b[0;34m(\u001b[0m\u001b[0mA1\u001b[0m\u001b[0;34m.\u001b[0m\u001b[0mtype\u001b[0m\u001b[0;34m)\u001b[0m\u001b[0;34m;\u001b[0m \u001b[0;31m# COMMON-ERROR\u001b[0m\u001b[0;34m\u001b[0m\u001b[0m\n\u001b[0m",
            "\u001b[0;31mAttributeError\u001b[0m: 'numpy.ndarray' object has no attribute 'type'"
          ]
        }
      ]
    },
    {
      "cell_type": "code",
      "metadata": {
        "id": "RLG5Lh4UcJfX",
        "outputId": "87a11c7d-c445-4700-d831-ed16d40a9f67"
      },
      "source": [
        "print(type(A1));"
      ],
      "execution_count": null,
      "outputs": [
        {
          "output_type": "stream",
          "text": [
            "<type 'numpy.ndarray'>\n"
          ],
          "name": "stdout"
        }
      ]
    },
    {
      "cell_type": "code",
      "metadata": {
        "id": "6Z2FYveUcJfZ"
      },
      "source": [
        "# Read through the attributes and methods in numpy.ndarray class\n",
        "## Google \"numpy.ndarray\" ---> https://docs.scipy.org/doc/numpy/reference/generated/numpy.ndarray.html\n",
        "\n",
        "## Pre-Google programmers: Read reference docs."
      ],
      "execution_count": null,
      "outputs": []
    },
    {
      "cell_type": "code",
      "metadata": {
        "id": "B9Xq73oxcJfc",
        "outputId": "be54f0bd-1837-4660-b03c-6bde55a67e8a"
      },
      "source": [
        "# Create random Matrix A2\n",
        "A2 = np.random.rand(5,4);\n",
        "\n",
        "print(A2);"
      ],
      "execution_count": null,
      "outputs": [
        {
          "output_type": "stream",
          "text": [
            "[[0.87843272 0.09542009 0.51709628 0.4757314 ]\n",
            " [0.59961261 0.34130491 0.44971847 0.81108225]\n",
            " [0.91361677 0.33787443 0.68804177 0.101287  ]\n",
            " [0.80388103 0.38985802 0.5201585  0.83281202]\n",
            " [0.71103788 0.06705573 0.01238878 0.07407959]]\n"
          ],
          "name": "stdout"
        }
      ]
    },
    {
      "cell_type": "code",
      "metadata": {
        "id": "KEKzuUJfcJfe",
        "outputId": "9bffc305-f2cc-4368-9f59-28429a1c6427"
      },
      "source": [
        "# Add element wise using loops A1+A2 = B\n",
        "\n",
        "## Google \"Accessing i,j th element in an ndarray\" ---> https://docs.scipy.org/doc/numpy/reference/arrays.ndarray.html\n",
        "print(A1[2,3]);\n"
      ],
      "execution_count": null,
      "outputs": [
        {
          "output_type": "stream",
          "text": [
            "0.6568528390908198\n"
          ],
          "name": "stdout"
        }
      ]
    },
    {
      "cell_type": "code",
      "metadata": {
        "id": "KBMpCRiXcJfi",
        "outputId": "ed0400f5-98a6-4dfb-b7ef-cc49939f34d2"
      },
      "source": [
        "print(A1(2,3)); #COMMON_ERROR"
      ],
      "execution_count": null,
      "outputs": [
        {
          "output_type": "error",
          "ename": "TypeError",
          "evalue": "'numpy.ndarray' object is not callable",
          "traceback": [
            "\u001b[0;31m---------------------------------------------------------------------------\u001b[0m",
            "\u001b[0;31mTypeError\u001b[0m                                 Traceback (most recent call last)",
            "\u001b[0;32m<ipython-input-14-fd4987ece1a1>\u001b[0m in \u001b[0;36m<module>\u001b[0;34m()\u001b[0m\n\u001b[0;32m----> 1\u001b[0;31m \u001b[0;32mprint\u001b[0m\u001b[0;34m(\u001b[0m\u001b[0mA1\u001b[0m\u001b[0;34m(\u001b[0m\u001b[0;36m2\u001b[0m\u001b[0;34m,\u001b[0m\u001b[0;36m3\u001b[0m\u001b[0;34m)\u001b[0m\u001b[0;34m)\u001b[0m\u001b[0;34m;\u001b[0m \u001b[0;31m#COMMON_ERROR\u001b[0m\u001b[0;34m\u001b[0m\u001b[0m\n\u001b[0m",
            "\u001b[0;31mTypeError\u001b[0m: 'numpy.ndarray' object is not callable"
          ]
        }
      ]
    },
    {
      "cell_type": "code",
      "metadata": {
        "id": "NpPvmvwMcJfk",
        "outputId": "4886f2f9-8c4f-4ebb-b6dd-88f28d123c65"
      },
      "source": [
        "B= A1+A2; # using + operator on ndarrays\n",
        "print(B); "
      ],
      "execution_count": null,
      "outputs": [
        {
          "output_type": "stream",
          "text": [
            "[[1.23485298 1.03929117 1.4531507  0.63221396]\n",
            " [1.29876635 0.51588998 0.75634747 0.97533932]\n",
            " [1.86193091 0.75818597 1.35644263 0.75813984]\n",
            " [0.99238733 1.35895577 0.87935241 1.48757843]\n",
            " [1.10696065 0.45694659 0.69490656 0.52769753]]\n"
          ],
          "name": "stdout"
        }
      ]
    },
    {
      "cell_type": "code",
      "metadata": {
        "id": "Htap8KrvcJfm",
        "outputId": "e436e248-e4b6-4842-b562-0355fa340485"
      },
      "source": [
        "(r,c) = A1.shape;\n",
        "print(r,c)"
      ],
      "execution_count": null,
      "outputs": [
        {
          "output_type": "stream",
          "text": [
            "(5, 4)\n"
          ],
          "name": "stdout"
        }
      ]
    },
    {
      "cell_type": "code",
      "metadata": {
        "id": "hnlQzfOucJfp",
        "outputId": "5443e87a-e790-411b-949a-e85828c14169"
      },
      "source": [
        "#B[i,j] = A1[i,j] + A2 [i,j] \n",
        "\n",
        "for i in range(r):\n",
        "    for j in range(c):\n",
        "        B[i,j] = A1[i,j] + A2[i,j];\n",
        "        \n",
        "print(B)"
      ],
      "execution_count": null,
      "outputs": [
        {
          "output_type": "stream",
          "text": [
            "[[1.23485298 1.03929117 1.4531507  0.63221396]\n",
            " [1.29876635 0.51588998 0.75634747 0.97533932]\n",
            " [1.86193091 0.75818597 1.35644263 0.75813984]\n",
            " [0.99238733 1.35895577 0.87935241 1.48757843]\n",
            " [1.10696065 0.45694659 0.69490656 0.52769753]]\n"
          ],
          "name": "stdout"
        }
      ]
    },
    {
      "cell_type": "code",
      "metadata": {
        "id": "nIc6Jy82cJfr",
        "outputId": "9f4b5066-ef5a-4f61-d66b-8b19d95ce26c"
      },
      "source": [
        "# OPTIMIZATION: Pre-allocate matrix B\n",
        "B = np.zeros(5,4); # COMMON-ERROR"
      ],
      "execution_count": null,
      "outputs": [
        {
          "output_type": "error",
          "ename": "TypeError",
          "evalue": "data type not understood",
          "traceback": [
            "\u001b[0;31m---------------------------------------------------------------------------\u001b[0m",
            "\u001b[0;31mTypeError\u001b[0m                                 Traceback (most recent call last)",
            "\u001b[0;32m<ipython-input-21-df097f1602bf>\u001b[0m in \u001b[0;36m<module>\u001b[0;34m()\u001b[0m\n\u001b[1;32m      1\u001b[0m \u001b[0;31m# OPTIMIZATION: Pre-allocate matrix B\u001b[0m\u001b[0;34m\u001b[0m\u001b[0;34m\u001b[0m\u001b[0m\n\u001b[0;32m----> 2\u001b[0;31m \u001b[0mB\u001b[0m \u001b[0;34m=\u001b[0m \u001b[0mnp\u001b[0m\u001b[0;34m.\u001b[0m\u001b[0mzeros\u001b[0m\u001b[0;34m(\u001b[0m\u001b[0;36m5\u001b[0m\u001b[0;34m,\u001b[0m\u001b[0;36m4\u001b[0m\u001b[0;34m)\u001b[0m\u001b[0;34m\u001b[0m\u001b[0m\n\u001b[0m",
            "\u001b[0;31mTypeError\u001b[0m: data type not understood"
          ]
        }
      ]
    },
    {
      "cell_type": "code",
      "metadata": {
        "id": "nM_QsaYLcJft",
        "outputId": "3e13be31-1b3e-4720-cb5c-62d88f11aeeb"
      },
      "source": [
        "#Google \"np.zeros\" ---> https://docs.scipy.org/doc/numpy/reference/generated/numpy.zeros.html\n",
        "B = np.zeros((5,4))\n",
        "\n",
        "for i in range(r): # same code as earlier\n",
        "    for j in range(c):\n",
        "        B[i,j] = A1[i,j] + A2[i,j];\n",
        "        \n",
        "print(B)"
      ],
      "execution_count": null,
      "outputs": [
        {
          "output_type": "stream",
          "text": [
            "[[1.23485298 1.03929117 1.4531507  0.63221396]\n",
            " [1.29876635 0.51588998 0.75634747 0.97533932]\n",
            " [1.86193091 0.75818597 1.35644263 0.75813984]\n",
            " [0.99238733 1.35895577 0.87935241 1.48757843]\n",
            " [1.10696065 0.45694659 0.69490656 0.52769753]]\n"
          ],
          "name": "stdout"
        }
      ]
    },
    {
      "cell_type": "code",
      "metadata": {
        "id": "u0MgTgHncJfv"
      },
      "source": [
        "# Time Complexity: ?\n",
        "# Space Complxiety: ?"
      ],
      "execution_count": null,
      "outputs": []
    },
    {
      "cell_type": "markdown",
      "metadata": {
        "id": "HIVrwot1cJfy"
      },
      "source": [
        "#### Exercise: Add two randomly generated NumPy 3D-matrices(tensor) using loops \n",
        "\n",
        "HINT: B[i,j,k] = A1[i,j,k] + A2[i,j,k]\n",
        "****************************************************************************************************************\n",
        "****************************************************************************************************************\n",
        "****************************************************************************************************************"
      ]
    },
    {
      "cell_type": "markdown",
      "metadata": {
        "id": "pICnpHKicJfy"
      },
      "source": [
        "### Problem 2: Find if a given 2D-point is inside (or) outside a circle \n",
        "    - Subproblems.\n",
        "    - Subproblems --> coding concepts.\n",
        "    - putting it all together.\n",
        "    - Exercise: Find if a given 2D point is inside (or) outside a rectangle ? \n",
        "   "
      ]
    },
    {
      "cell_type": "code",
      "metadata": {
        "id": "xuQmu-RDcJfz",
        "outputId": "de3e29ae-e5e7-46f9-dc0f-875db0457ad8"
      },
      "source": [
        "## input circle (C) and point(P)\n",
        "\n",
        "# input circle params\n",
        "# Google \" input multiple values python 3\" ---> https://www.geeksforgeeks.org/input-multiple-values-user-one-line-python/\n",
        "print(\"Enter Cx, Cy, r:\");\n",
        "(Cx, Cy, r) = raw_input().split();\n",
        "\n",
        "print(Cx, Cy, r); # always cross check using print statements"
      ],
      "execution_count": null,
      "outputs": [
        {
          "output_type": "stream",
          "text": [
            "Enter Cx, Cy, r:\n"
          ],
          "name": "stdout"
        },
        {
          "output_type": "error",
          "ename": "KeyboardInterrupt",
          "evalue": "",
          "traceback": [
            "\u001b[0;31m---------------------------------------------------------------------------\u001b[0m",
            "\u001b[0;31mKeyboardInterrupt\u001b[0m                         Traceback (most recent call last)",
            "\u001b[0;32m<ipython-input-48-ffdf3a712ac9>\u001b[0m in \u001b[0;36m<module>\u001b[0;34m()\u001b[0m\n\u001b[1;32m      4\u001b[0m \u001b[0;31m# Google \" input multiple values python 3\" ---> https://www.geeksforgeeks.org/input-multiple-values-user-one-line-python/\u001b[0m\u001b[0;34m\u001b[0m\u001b[0;34m\u001b[0m\u001b[0m\n\u001b[1;32m      5\u001b[0m \u001b[0;32mprint\u001b[0m\u001b[0;34m(\u001b[0m\u001b[0;34m\"Enter Cx, Cy, r:\"\u001b[0m\u001b[0;34m)\u001b[0m\u001b[0;34m;\u001b[0m\u001b[0;34m\u001b[0m\u001b[0m\n\u001b[0;32m----> 6\u001b[0;31m \u001b[0;34m(\u001b[0m\u001b[0mCx\u001b[0m\u001b[0;34m,\u001b[0m \u001b[0mCy\u001b[0m\u001b[0;34m,\u001b[0m \u001b[0mr\u001b[0m\u001b[0;34m)\u001b[0m \u001b[0;34m=\u001b[0m \u001b[0mraw_input\u001b[0m\u001b[0;34m(\u001b[0m\u001b[0;34m)\u001b[0m\u001b[0;34m.\u001b[0m\u001b[0msplit\u001b[0m\u001b[0;34m(\u001b[0m\u001b[0;34m)\u001b[0m\u001b[0;34m;\u001b[0m\u001b[0;34m\u001b[0m\u001b[0m\n\u001b[0m\u001b[1;32m      7\u001b[0m \u001b[0;34m\u001b[0m\u001b[0m\n\u001b[1;32m      8\u001b[0m \u001b[0;32mprint\u001b[0m\u001b[0;34m(\u001b[0m\u001b[0mCx\u001b[0m\u001b[0;34m,\u001b[0m \u001b[0mCy\u001b[0m\u001b[0;34m,\u001b[0m \u001b[0mr\u001b[0m\u001b[0;34m)\u001b[0m\u001b[0;34m;\u001b[0m \u001b[0;31m# always cross check using print statements\u001b[0m\u001b[0;34m\u001b[0m\u001b[0m\n",
            "\u001b[0;32m/usr/local/lib/python2.7/site-packages/ipykernel/kernelbase.pyc\u001b[0m in \u001b[0;36mraw_input\u001b[0;34m(self, prompt)\u001b[0m\n\u001b[1;32m    702\u001b[0m             \u001b[0mself\u001b[0m\u001b[0;34m.\u001b[0m\u001b[0m_parent_ident\u001b[0m\u001b[0;34m,\u001b[0m\u001b[0;34m\u001b[0m\u001b[0m\n\u001b[1;32m    703\u001b[0m             \u001b[0mself\u001b[0m\u001b[0;34m.\u001b[0m\u001b[0m_parent_header\u001b[0m\u001b[0;34m,\u001b[0m\u001b[0;34m\u001b[0m\u001b[0m\n\u001b[0;32m--> 704\u001b[0;31m             \u001b[0mpassword\u001b[0m\u001b[0;34m=\u001b[0m\u001b[0mFalse\u001b[0m\u001b[0;34m,\u001b[0m\u001b[0;34m\u001b[0m\u001b[0m\n\u001b[0m\u001b[1;32m    705\u001b[0m         )\n\u001b[1;32m    706\u001b[0m \u001b[0;34m\u001b[0m\u001b[0m\n",
            "\u001b[0;32m/usr/local/lib/python2.7/site-packages/ipykernel/kernelbase.pyc\u001b[0m in \u001b[0;36m_input_request\u001b[0;34m(self, prompt, ident, parent, password)\u001b[0m\n\u001b[1;32m    732\u001b[0m             \u001b[0;32mexcept\u001b[0m \u001b[0mKeyboardInterrupt\u001b[0m\u001b[0;34m:\u001b[0m\u001b[0;34m\u001b[0m\u001b[0m\n\u001b[1;32m    733\u001b[0m                 \u001b[0;31m# re-raise KeyboardInterrupt, to truncate traceback\u001b[0m\u001b[0;34m\u001b[0m\u001b[0;34m\u001b[0m\u001b[0m\n\u001b[0;32m--> 734\u001b[0;31m                 \u001b[0;32mraise\u001b[0m \u001b[0mKeyboardInterrupt\u001b[0m\u001b[0;34m\u001b[0m\u001b[0m\n\u001b[0m\u001b[1;32m    735\u001b[0m             \u001b[0;32melse\u001b[0m\u001b[0;34m:\u001b[0m\u001b[0;34m\u001b[0m\u001b[0m\n\u001b[1;32m    736\u001b[0m                 \u001b[0;32mbreak\u001b[0m\u001b[0;34m\u001b[0m\u001b[0m\n",
            "\u001b[0;31mKeyboardInterrupt\u001b[0m: "
          ]
        }
      ]
    },
    {
      "cell_type": "code",
      "metadata": {
        "id": "WPVlX4QpcJf1",
        "outputId": "cb8aa0c7-22cb-4490-a5f2-c4db72fc7b75"
      },
      "source": [
        "# input circle params\n",
        "## Google \"python input multiple values in single line\" ----> https://www.tutorialspoint.com/how-to-input-multiple-values-from-user-in-one-line-in-python\n",
        "## TRY MULTIPLE APPROACHES and learn from each attempt.\n",
        "\n",
        "Cx, Cy, r = input(\"Enter Cx, Cy, r:\").split();\n",
        "\n"
      ],
      "execution_count": null,
      "outputs": [
        {
          "output_type": "stream",
          "text": [
            "Enter Cx, Cy, r:0.0 0.0 5.0\n"
          ],
          "name": "stdout"
        },
        {
          "output_type": "error",
          "ename": "SyntaxError",
          "evalue": "invalid syntax (<string>, line 1)",
          "traceback": [
            "\u001b[0;36m  File \u001b[0;32m\"<string>\"\u001b[0;36m, line \u001b[0;32m1\u001b[0m\n\u001b[0;31m    0.0 0.0 5.0\u001b[0m\n\u001b[0m          ^\u001b[0m\n\u001b[0;31mSyntaxError\u001b[0m\u001b[0;31m:\u001b[0m invalid syntax\n"
          ]
        }
      ]
    },
    {
      "cell_type": "code",
      "metadata": {
        "id": "tAXGXD2McJf3",
        "outputId": "e853f5b1-69e5-4c35-fa0f-2a9695465065"
      },
      "source": [
        "# Google \" SyntaxError: invalid syntax input Python3 string\" --> https://stackoverflow.com/questions/25174925/syntax-error-for-input\n",
        "Cx, Cy, r = raw_input(\"Enter Cx, Cy, r:\").split();\n"
      ],
      "execution_count": null,
      "outputs": [
        {
          "output_type": "stream",
          "text": [
            "Enter Cx, Cy, r:0.0 0.0 5.0\n"
          ],
          "name": "stdout"
        }
      ]
    },
    {
      "cell_type": "code",
      "metadata": {
        "id": "xNXW74ECcJf5",
        "outputId": "c6dd7d96-76e2-4ec3-b516-096581e484ce"
      },
      "source": [
        "print(Cx, Cy,r)"
      ],
      "execution_count": null,
      "outputs": [
        {
          "output_type": "stream",
          "text": [
            "('0.0', '0.0', '5.0')\n"
          ],
          "name": "stdout"
        }
      ]
    },
    {
      "cell_type": "code",
      "metadata": {
        "id": "jo099mmgcJf7",
        "outputId": "e2c08981-fd05-48ee-8d70-0835739e5d09"
      },
      "source": [
        "# Input Px, Py\n",
        "\n",
        "Px, Py = raw_input(\"Enter Px, Py:\").split()\n",
        "print(Px, Py);"
      ],
      "execution_count": null,
      "outputs": [
        {
          "output_type": "stream",
          "text": [
            "Enter Px, Py:1.0 1.0\n",
            "('1.0', '1.0')\n"
          ],
          "name": "stdout"
        }
      ]
    },
    {
      "cell_type": "code",
      "metadata": {
        "scrolled": true,
        "id": "NvknuqAwcJf9",
        "outputId": "27b4ca03-6a4d-4f15-c8f5-b920bff1d051"
      },
      "source": [
        "# Check if P lies in C.\n",
        "d = ( (Cx-Px)**2 + (Cy-Py)**2 )\n",
        "print(d);\n",
        "\n",
        "if d<r:\n",
        "    print(\"P in C\")\n",
        "else:\n",
        "    print(\"P NOT in C\")"
      ],
      "execution_count": null,
      "outputs": [
        {
          "output_type": "error",
          "ename": "TypeError",
          "evalue": "unsupported operand type(s) for -: 'str' and 'str'",
          "traceback": [
            "\u001b[0;31m---------------------------------------------------------------------------\u001b[0m",
            "\u001b[0;31mTypeError\u001b[0m                                 Traceback (most recent call last)",
            "\u001b[0;32m<ipython-input-65-4b09315aa2ad>\u001b[0m in \u001b[0;36m<module>\u001b[0;34m()\u001b[0m\n\u001b[1;32m      1\u001b[0m \u001b[0;31m# Check if P lies in C.\u001b[0m\u001b[0;34m\u001b[0m\u001b[0;34m\u001b[0m\u001b[0m\n\u001b[0;32m----> 2\u001b[0;31m \u001b[0md\u001b[0m \u001b[0;34m=\u001b[0m \u001b[0;34m(\u001b[0m \u001b[0;34m(\u001b[0m\u001b[0mCx\u001b[0m\u001b[0;34m-\u001b[0m\u001b[0mPx\u001b[0m\u001b[0;34m)\u001b[0m\u001b[0;34m**\u001b[0m\u001b[0;36m2\u001b[0m \u001b[0;34m+\u001b[0m \u001b[0;34m(\u001b[0m\u001b[0mCy\u001b[0m\u001b[0;34m-\u001b[0m\u001b[0mPy\u001b[0m\u001b[0;34m)\u001b[0m\u001b[0;34m**\u001b[0m\u001b[0;36m2\u001b[0m \u001b[0;34m)\u001b[0m\u001b[0;34m\u001b[0m\u001b[0m\n\u001b[0m\u001b[1;32m      3\u001b[0m \u001b[0;32mprint\u001b[0m\u001b[0;34m(\u001b[0m\u001b[0md\u001b[0m\u001b[0;34m)\u001b[0m\u001b[0;34m;\u001b[0m\u001b[0;34m\u001b[0m\u001b[0m\n\u001b[1;32m      4\u001b[0m \u001b[0;34m\u001b[0m\u001b[0m\n\u001b[1;32m      5\u001b[0m \u001b[0;32mif\u001b[0m \u001b[0md\u001b[0m\u001b[0;34m<\u001b[0m\u001b[0mr\u001b[0m\u001b[0;34m:\u001b[0m\u001b[0;34m\u001b[0m\u001b[0m\n",
            "\u001b[0;31mTypeError\u001b[0m: unsupported operand type(s) for -: 'str' and 'str'"
          ]
        }
      ]
    },
    {
      "cell_type": "code",
      "metadata": {
        "id": "2efFB1TbcJf_",
        "outputId": "9dc5ee2a-a27f-4735-b227-569627c9e678"
      },
      "source": [
        "# Check if P lies in C.\n",
        "\n",
        "## String to Float. Very important to note that split() returns Strings\n",
        "Cx = float(Cx);\n",
        "Cy = float(Cy);\n",
        "r =float(r);\n",
        "Px= float(Px);\n",
        "Py = float(Py);\n",
        "\n",
        "import math \n",
        "\n",
        "d = math.sqrt( (Cx-Px)**2 + (Cy-Py)**2 )\n",
        "print(d);\n",
        "\n",
        "if d<r:\n",
        "    print(\"P in C\")\n",
        "else:\n",
        "    print(\"P NOT in C\")"
      ],
      "execution_count": null,
      "outputs": [
        {
          "output_type": "stream",
          "text": [
            "1.41421356237\n",
            "P in C\n"
          ],
          "name": "stdout"
        }
      ]
    },
    {
      "cell_type": "markdown",
      "metadata": {
        "id": "WYgY2O4lcJgC"
      },
      "source": [
        "#### Exercise: Find if a point is inside or outside a rectangle.\n",
        "\n",
        "HINT: How do you represent a rectangle?\n",
        "\n",
        "********************************************\n",
        "********************************************\n",
        "********************************************"
      ]
    },
    {
      "cell_type": "markdown",
      "metadata": {
        "id": "0OXSfPzecJgC"
      },
      "source": [
        "### Problem 3: NumPy ndarray manupualtion operations\n"
      ]
    },
    {
      "cell_type": "code",
      "metadata": {
        "id": "tyHcYRnDcJgD",
        "outputId": "1d327f95-2ef2-44a5-f036-89a5997929c3"
      },
      "source": [
        "# 1. Reshape matrices: Very COMMON-ERRORS in Assignments\n",
        "A = np.random.rand(5,4);\n",
        "print(A);\n"
      ],
      "execution_count": null,
      "outputs": [
        {
          "output_type": "stream",
          "text": [
            "[[0.14807421 0.76465119 0.35072274 0.44772859]\n",
            " [0.76310969 0.60355746 0.39205106 0.55551216]\n",
            " [0.52171983 0.14015325 0.07435462 0.84967035]\n",
            " [0.31052941 0.57171621 0.36938534 0.92015166]\n",
            " [0.14458459 0.12976042 0.4790811  0.98251111]]\n"
          ],
          "name": "stdout"
        }
      ]
    },
    {
      "cell_type": "code",
      "metadata": {
        "id": "CYcNgbGgcJgF",
        "outputId": "9f6ed031-023a-41c7-f354-bb7a2ad108b9"
      },
      "source": [
        "## reshape into a vector row-major-order\n",
        "###https://docs.scipy.org/doc/numpy/reference/generated/numpy.reshape.html \n",
        "### Patiently read the documentation and try alternaive params\n",
        "print( np.reshape(A, 20, 'C'))\n"
      ],
      "execution_count": null,
      "outputs": [
        {
          "output_type": "stream",
          "text": [
            "[0.14807421 0.76465119 0.35072274 0.44772859 0.76310969 0.60355746\n",
            " 0.39205106 0.55551216 0.52171983 0.14015325 0.07435462 0.84967035\n",
            " 0.31052941 0.57171621 0.36938534 0.92015166 0.14458459 0.12976042\n",
            " 0.4790811  0.98251111]\n"
          ],
          "name": "stdout"
        }
      ]
    },
    {
      "cell_type": "code",
      "metadata": {
        "id": "m5qvwq-HcJgI",
        "outputId": "4013f4b0-3cc8-46f1-9859-2afe235e95f2"
      },
      "source": [
        "print( np.reshape(A, 20, 'F'))"
      ],
      "execution_count": null,
      "outputs": [
        {
          "output_type": "stream",
          "text": [
            "[0.14807421 0.76310969 0.52171983 0.31052941 0.14458459 0.76465119\n",
            " 0.60355746 0.14015325 0.57171621 0.12976042 0.35072274 0.39205106\n",
            " 0.07435462 0.36938534 0.4790811  0.44772859 0.55551216 0.84967035\n",
            " 0.92015166 0.98251111]\n"
          ],
          "name": "stdout"
        }
      ]
    },
    {
      "cell_type": "code",
      "metadata": {
        "id": "4iSPGE_rcJgK",
        "outputId": "25bf8689-7fe5-4b14-91fd-8ae1eda06a11"
      },
      "source": [
        "print( np.reshape(A, (4,5), 'C'))"
      ],
      "execution_count": null,
      "outputs": [
        {
          "output_type": "stream",
          "text": [
            "[[0.14807421 0.76465119 0.35072274 0.44772859 0.76310969]\n",
            " [0.60355746 0.39205106 0.55551216 0.52171983 0.14015325]\n",
            " [0.07435462 0.84967035 0.31052941 0.57171621 0.36938534]\n",
            " [0.92015166 0.14458459 0.12976042 0.4790811  0.98251111]]\n"
          ],
          "name": "stdout"
        }
      ]
    },
    {
      "cell_type": "code",
      "metadata": {
        "id": "Yz1BGbxacJgM",
        "outputId": "f1b6094c-35c5-4334-ed69-f2d4c683d00f"
      },
      "source": [
        "print( np.reshape(A, (4,-1), 'C'))"
      ],
      "execution_count": null,
      "outputs": [
        {
          "output_type": "stream",
          "text": [
            "[[0.14807421 0.76465119 0.35072274 0.44772859 0.76310969]\n",
            " [0.60355746 0.39205106 0.55551216 0.52171983 0.14015325]\n",
            " [0.07435462 0.84967035 0.31052941 0.57171621 0.36938534]\n",
            " [0.92015166 0.14458459 0.12976042 0.4790811  0.98251111]]\n"
          ],
          "name": "stdout"
        }
      ]
    },
    {
      "cell_type": "code",
      "metadata": {
        "id": "OaaxDpelcJgO",
        "outputId": "292d7204-4c39-4417-8d45-c88bb3831273"
      },
      "source": [
        "print( np.reshape(A, (-1,5), 'C'))"
      ],
      "execution_count": null,
      "outputs": [
        {
          "output_type": "stream",
          "text": [
            "[[0.14807421 0.76465119 0.35072274 0.44772859 0.76310969]\n",
            " [0.60355746 0.39205106 0.55551216 0.52171983 0.14015325]\n",
            " [0.07435462 0.84967035 0.31052941 0.57171621 0.36938534]\n",
            " [0.92015166 0.14458459 0.12976042 0.4790811  0.98251111]]\n"
          ],
          "name": "stdout"
        }
      ]
    },
    {
      "cell_type": "code",
      "metadata": {
        "id": "5A_xitpCcJgS",
        "outputId": "4c997328-796c-4017-e14b-faf7543a6e8c"
      },
      "source": [
        "print( np.reshape(A, (4,6), 'C'))"
      ],
      "execution_count": null,
      "outputs": [
        {
          "output_type": "error",
          "ename": "ValueError",
          "evalue": "cannot reshape array of size 20 into shape (4,6)",
          "traceback": [
            "\u001b[0;31m---------------------------------------------------------------------------\u001b[0m",
            "\u001b[0;31mValueError\u001b[0m                                Traceback (most recent call last)",
            "\u001b[0;32m<ipython-input-77-fcf31998dfe0>\u001b[0m in \u001b[0;36m<module>\u001b[0;34m()\u001b[0m\n\u001b[0;32m----> 1\u001b[0;31m \u001b[0;32mprint\u001b[0m\u001b[0;34m(\u001b[0m \u001b[0mnp\u001b[0m\u001b[0;34m.\u001b[0m\u001b[0mreshape\u001b[0m\u001b[0;34m(\u001b[0m\u001b[0mA\u001b[0m\u001b[0;34m,\u001b[0m \u001b[0;34m(\u001b[0m\u001b[0;36m4\u001b[0m\u001b[0;34m,\u001b[0m\u001b[0;36m6\u001b[0m\u001b[0;34m)\u001b[0m\u001b[0;34m,\u001b[0m \u001b[0;34m'C'\u001b[0m\u001b[0;34m)\u001b[0m\u001b[0;34m)\u001b[0m\u001b[0;34m\u001b[0m\u001b[0m\n\u001b[0m",
            "\u001b[0;32m/usr/local/lib/python2.7/site-packages/numpy/core/fromnumeric.pyc\u001b[0m in \u001b[0;36mreshape\u001b[0;34m(a, newshape, order)\u001b[0m\n\u001b[1;32m    290\u001b[0m            [5, 6]])\n\u001b[1;32m    291\u001b[0m     \"\"\"\n\u001b[0;32m--> 292\u001b[0;31m     \u001b[0;32mreturn\u001b[0m \u001b[0m_wrapfunc\u001b[0m\u001b[0;34m(\u001b[0m\u001b[0ma\u001b[0m\u001b[0;34m,\u001b[0m \u001b[0;34m'reshape'\u001b[0m\u001b[0;34m,\u001b[0m \u001b[0mnewshape\u001b[0m\u001b[0;34m,\u001b[0m \u001b[0morder\u001b[0m\u001b[0;34m=\u001b[0m\u001b[0morder\u001b[0m\u001b[0;34m)\u001b[0m\u001b[0;34m\u001b[0m\u001b[0m\n\u001b[0m\u001b[1;32m    293\u001b[0m \u001b[0;34m\u001b[0m\u001b[0m\n\u001b[1;32m    294\u001b[0m \u001b[0;34m\u001b[0m\u001b[0m\n",
            "\u001b[0;32m/usr/local/lib/python2.7/site-packages/numpy/core/fromnumeric.pyc\u001b[0m in \u001b[0;36m_wrapfunc\u001b[0;34m(obj, method, *args, **kwds)\u001b[0m\n\u001b[1;32m     54\u001b[0m \u001b[0;32mdef\u001b[0m \u001b[0m_wrapfunc\u001b[0m\u001b[0;34m(\u001b[0m\u001b[0mobj\u001b[0m\u001b[0;34m,\u001b[0m \u001b[0mmethod\u001b[0m\u001b[0;34m,\u001b[0m \u001b[0;34m*\u001b[0m\u001b[0margs\u001b[0m\u001b[0;34m,\u001b[0m \u001b[0;34m**\u001b[0m\u001b[0mkwds\u001b[0m\u001b[0;34m)\u001b[0m\u001b[0;34m:\u001b[0m\u001b[0;34m\u001b[0m\u001b[0m\n\u001b[1;32m     55\u001b[0m     \u001b[0;32mtry\u001b[0m\u001b[0;34m:\u001b[0m\u001b[0;34m\u001b[0m\u001b[0m\n\u001b[0;32m---> 56\u001b[0;31m         \u001b[0;32mreturn\u001b[0m \u001b[0mgetattr\u001b[0m\u001b[0;34m(\u001b[0m\u001b[0mobj\u001b[0m\u001b[0;34m,\u001b[0m \u001b[0mmethod\u001b[0m\u001b[0;34m)\u001b[0m\u001b[0;34m(\u001b[0m\u001b[0;34m*\u001b[0m\u001b[0margs\u001b[0m\u001b[0;34m,\u001b[0m \u001b[0;34m**\u001b[0m\u001b[0mkwds\u001b[0m\u001b[0;34m)\u001b[0m\u001b[0;34m\u001b[0m\u001b[0m\n\u001b[0m\u001b[1;32m     57\u001b[0m \u001b[0;34m\u001b[0m\u001b[0m\n\u001b[1;32m     58\u001b[0m     \u001b[0;31m# An AttributeError occurs if the object does not have\u001b[0m\u001b[0;34m\u001b[0m\u001b[0;34m\u001b[0m\u001b[0m\n",
            "\u001b[0;31mValueError\u001b[0m: cannot reshape array of size 20 into shape (4,6)"
          ]
        }
      ]
    },
    {
      "cell_type": "markdown",
      "metadata": {
        "id": "HEMpyODjcJgV"
      },
      "source": [
        "#### Exercise: take a tensor of size 4X5X6 and convert it into a tensor of vector and matrix (10X12)."
      ]
    },
    {
      "cell_type": "code",
      "metadata": {
        "id": "OlqfvpBZcJgV",
        "outputId": "476bbeca-7f11-41a1-c6d6-149b9a16f838"
      },
      "source": [
        "#2. Stacking\n",
        "A = np.random.rand(5,4);\n",
        "print(A);\n",
        "\n",
        "B= np.random.rand(5,2);\n",
        "print(B)\n"
      ],
      "execution_count": null,
      "outputs": [
        {
          "output_type": "stream",
          "text": [
            "[[0.4543747  0.64690556 0.01325659 0.4005741 ]\n",
            " [0.37270572 0.9229127  0.11746422 0.23759922]\n",
            " [0.91889495 0.53198908 0.40542735 0.57103514]\n",
            " [0.2562349  0.96441954 0.77128697 0.98914802]\n",
            " [0.5388144  0.79256948 0.58861248 0.5072647 ]]\n",
            "[[0.93198709 0.02293127]\n",
            " [0.84602856 0.18276059]\n",
            " [0.00741556 0.54525969]\n",
            " [0.33630522 0.79257607]\n",
            " [0.00361456 0.58644709]]\n"
          ],
          "name": "stdout"
        }
      ]
    },
    {
      "cell_type": "code",
      "metadata": {
        "scrolled": true,
        "id": "H1WOHYflcJgY",
        "outputId": "86ffa7df-8fe7-45ef-e043-f7933971a189"
      },
      "source": [
        "# C = [A B]\n",
        "C = np.hstack(A, B);\n",
        "print(C)"
      ],
      "execution_count": null,
      "outputs": [
        {
          "output_type": "error",
          "ename": "TypeError",
          "evalue": "hstack() takes exactly 1 argument (2 given)",
          "traceback": [
            "\u001b[0;31m---------------------------------------------------------------------------\u001b[0m",
            "\u001b[0;31mTypeError\u001b[0m                                 Traceback (most recent call last)",
            "\u001b[0;32m<ipython-input-79-d92124e01823>\u001b[0m in \u001b[0;36m<module>\u001b[0;34m()\u001b[0m\n\u001b[1;32m      1\u001b[0m \u001b[0;31m# C = [A B]\u001b[0m\u001b[0;34m\u001b[0m\u001b[0;34m\u001b[0m\u001b[0m\n\u001b[0;32m----> 2\u001b[0;31m \u001b[0mC\u001b[0m \u001b[0;34m=\u001b[0m \u001b[0mnp\u001b[0m\u001b[0;34m.\u001b[0m\u001b[0mhstack\u001b[0m\u001b[0;34m(\u001b[0m\u001b[0mA\u001b[0m\u001b[0;34m,\u001b[0m \u001b[0mB\u001b[0m\u001b[0;34m)\u001b[0m\u001b[0;34m;\u001b[0m\u001b[0;34m\u001b[0m\u001b[0m\n\u001b[0m\u001b[1;32m      3\u001b[0m \u001b[0;32mprint\u001b[0m\u001b[0;34m(\u001b[0m\u001b[0mC\u001b[0m\u001b[0;34m)\u001b[0m\u001b[0;34m\u001b[0m\u001b[0m\n",
            "\u001b[0;31mTypeError\u001b[0m: hstack() takes exactly 1 argument (2 given)"
          ]
        }
      ]
    },
    {
      "cell_type": "code",
      "metadata": {
        "id": "ykEZ1rdkcJga",
        "outputId": "34b2457b-913f-4bdc-b828-806f36235faf"
      },
      "source": [
        "C = np.hstack((A, B)); # read documentation carefully\n",
        "print(C)"
      ],
      "execution_count": null,
      "outputs": [
        {
          "output_type": "stream",
          "text": [
            "[[0.4543747  0.64690556 0.01325659 0.4005741  0.93198709 0.02293127]\n",
            " [0.37270572 0.9229127  0.11746422 0.23759922 0.84602856 0.18276059]\n",
            " [0.91889495 0.53198908 0.40542735 0.57103514 0.00741556 0.54525969]\n",
            " [0.2562349  0.96441954 0.77128697 0.98914802 0.33630522 0.79257607]\n",
            " [0.5388144  0.79256948 0.58861248 0.5072647  0.00361456 0.58644709]]\n"
          ],
          "name": "stdout"
        }
      ]
    },
    {
      "cell_type": "code",
      "metadata": {
        "id": "dF6R8gXAcJgc",
        "outputId": "70ef09eb-28ca-4338-a419-f0ee8110cad1"
      },
      "source": [
        "A = np.random.rand(5,4);\n",
        "print(A);\n",
        "\n",
        "B= np.random.rand(4,4);\n",
        "print(B)\n",
        "\n",
        "C = np.hstack((A, B));\n",
        "print(C)"
      ],
      "execution_count": null,
      "outputs": [
        {
          "output_type": "stream",
          "text": [
            "[[0.07442156 0.90842643 0.26791901 0.52103986]\n",
            " [0.31627629 0.96720084 0.92801681 0.29094456]\n",
            " [0.92762484 0.2036012  0.62790382 0.21155578]\n",
            " [0.03114235 0.02227744 0.45126548 0.07824812]\n",
            " [0.31206675 0.12787428 0.78704942 0.95472092]]\n",
            "[[0.74204087 0.3375716  0.53499921 0.64780102]\n",
            " [0.95762786 0.35441587 0.99187725 0.38097213]\n",
            " [0.34547302 0.48853482 0.85121261 0.81847693]\n",
            " [0.1783305  0.40696326 0.71089858 0.49241374]]\n"
          ],
          "name": "stdout"
        },
        {
          "output_type": "error",
          "ename": "ValueError",
          "evalue": "all the input array dimensions except for the concatenation axis must match exactly",
          "traceback": [
            "\u001b[0;31m---------------------------------------------------------------------------\u001b[0m",
            "\u001b[0;31mValueError\u001b[0m                                Traceback (most recent call last)",
            "\u001b[0;32m<ipython-input-84-daed3de7c0c2>\u001b[0m in \u001b[0;36m<module>\u001b[0;34m()\u001b[0m\n\u001b[1;32m      5\u001b[0m \u001b[0;32mprint\u001b[0m\u001b[0;34m(\u001b[0m\u001b[0mB\u001b[0m\u001b[0;34m)\u001b[0m\u001b[0;34m\u001b[0m\u001b[0m\n\u001b[1;32m      6\u001b[0m \u001b[0;34m\u001b[0m\u001b[0m\n\u001b[0;32m----> 7\u001b[0;31m \u001b[0mC\u001b[0m \u001b[0;34m=\u001b[0m \u001b[0mnp\u001b[0m\u001b[0;34m.\u001b[0m\u001b[0mhstack\u001b[0m\u001b[0;34m(\u001b[0m\u001b[0;34m(\u001b[0m\u001b[0mA\u001b[0m\u001b[0;34m,\u001b[0m \u001b[0mB\u001b[0m\u001b[0;34m)\u001b[0m\u001b[0;34m)\u001b[0m\u001b[0;34m;\u001b[0m\u001b[0;34m\u001b[0m\u001b[0m\n\u001b[0m\u001b[1;32m      8\u001b[0m \u001b[0;32mprint\u001b[0m\u001b[0;34m(\u001b[0m\u001b[0mC\u001b[0m\u001b[0;34m)\u001b[0m\u001b[0;34m\u001b[0m\u001b[0m\n",
            "\u001b[0;32m/usr/local/lib/python2.7/site-packages/numpy/core/shape_base.pyc\u001b[0m in \u001b[0;36mhstack\u001b[0;34m(tup)\u001b[0m\n\u001b[1;32m    338\u001b[0m         \u001b[0;32mreturn\u001b[0m \u001b[0m_nx\u001b[0m\u001b[0;34m.\u001b[0m\u001b[0mconcatenate\u001b[0m\u001b[0;34m(\u001b[0m\u001b[0marrs\u001b[0m\u001b[0;34m,\u001b[0m \u001b[0;36m0\u001b[0m\u001b[0;34m)\u001b[0m\u001b[0;34m\u001b[0m\u001b[0m\n\u001b[1;32m    339\u001b[0m     \u001b[0;32melse\u001b[0m\u001b[0;34m:\u001b[0m\u001b[0;34m\u001b[0m\u001b[0m\n\u001b[0;32m--> 340\u001b[0;31m         \u001b[0;32mreturn\u001b[0m \u001b[0m_nx\u001b[0m\u001b[0;34m.\u001b[0m\u001b[0mconcatenate\u001b[0m\u001b[0;34m(\u001b[0m\u001b[0marrs\u001b[0m\u001b[0;34m,\u001b[0m \u001b[0;36m1\u001b[0m\u001b[0;34m)\u001b[0m\u001b[0;34m\u001b[0m\u001b[0m\n\u001b[0m\u001b[1;32m    341\u001b[0m \u001b[0;34m\u001b[0m\u001b[0m\n\u001b[1;32m    342\u001b[0m \u001b[0;34m\u001b[0m\u001b[0m\n",
            "\u001b[0;31mValueError\u001b[0m: all the input array dimensions except for the concatenation axis must match exactly"
          ]
        }
      ]
    },
    {
      "cell_type": "code",
      "metadata": {
        "id": "Q_iWOdJlcJge",
        "outputId": "42e610b0-e488-4d08-fb1e-58c389c87455"
      },
      "source": [
        "A = np.random.rand(5,4);\n",
        "print(A);\n",
        "\n",
        "B= np.random.rand(4,4);\n",
        "print(B)\n",
        "\n",
        "C = np.vstack((A, B)); #Vertical stacking\n",
        "print(C)"
      ],
      "execution_count": null,
      "outputs": [
        {
          "output_type": "stream",
          "text": [
            "[[0.47572417 0.88468831 0.81030914 0.54286827]\n",
            " [0.088576   0.6447609  0.65370572 0.31849572]\n",
            " [0.01805613 0.46166837 0.4602457  0.35788657]\n",
            " [0.37245741 0.49461568 0.31431636 0.3799997 ]\n",
            " [0.96098487 0.1608441  0.50098802 0.01518362]]\n",
            "[[0.43308702 0.04543804 0.91316269 0.86101818]\n",
            " [0.86514807 0.63395249 0.40368305 0.31388662]\n",
            " [0.82764524 0.15498427 0.70440415 0.904619  ]\n",
            " [0.13671617 0.81722549 0.95948317 0.70652946]]\n",
            "[[0.47572417 0.88468831 0.81030914 0.54286827]\n",
            " [0.088576   0.6447609  0.65370572 0.31849572]\n",
            " [0.01805613 0.46166837 0.4602457  0.35788657]\n",
            " [0.37245741 0.49461568 0.31431636 0.3799997 ]\n",
            " [0.96098487 0.1608441  0.50098802 0.01518362]\n",
            " [0.43308702 0.04543804 0.91316269 0.86101818]\n",
            " [0.86514807 0.63395249 0.40368305 0.31388662]\n",
            " [0.82764524 0.15498427 0.70440415 0.904619  ]\n",
            " [0.13671617 0.81722549 0.95948317 0.70652946]]\n"
          ],
          "name": "stdout"
        }
      ]
    },
    {
      "cell_type": "code",
      "metadata": {
        "id": "9RZA6UgrcJgg",
        "outputId": "9762fe13-c6a9-4409-af36-aba16ffae6f1"
      },
      "source": [
        "# 3D tensors\n",
        "A = np.random.rand(5,4,3); # (height, width, colors) in images is a good way to think of this\n",
        "print(A.shape);\n",
        "\n",
        "B= np.random.rand(5,3,3);\n",
        "print(B.shape)\n",
        "\n",
        "C = np.hstack((A, B));\n",
        "print(C.shape)"
      ],
      "execution_count": null,
      "outputs": [
        {
          "output_type": "stream",
          "text": [
            "(5, 4, 3)\n",
            "(5, 3, 3)\n",
            "(5, 7, 3)\n"
          ],
          "name": "stdout"
        }
      ]
    },
    {
      "cell_type": "code",
      "metadata": {
        "id": "3UHn4iYicJgi",
        "outputId": "eefd312c-c1f2-46a6-ab4d-f8f721eaa86c"
      },
      "source": [
        "# 3D tensors\n",
        "A = np.random.rand(5,4,3);\n",
        "print(A.shape);\n",
        "\n",
        "B= np.random.rand(4,3,3);\n",
        "print(B.shape)\n",
        "\n",
        "C = np.hstack((A, B));\n",
        "print(C.shape)"
      ],
      "execution_count": null,
      "outputs": [
        {
          "output_type": "stream",
          "text": [
            "(5, 4, 3)\n",
            "(4, 3, 3)\n"
          ],
          "name": "stdout"
        },
        {
          "output_type": "error",
          "ename": "ValueError",
          "evalue": "all the input array dimensions except for the concatenation axis must match exactly",
          "traceback": [
            "\u001b[0;31m---------------------------------------------------------------------------\u001b[0m",
            "\u001b[0;31mValueError\u001b[0m                                Traceback (most recent call last)",
            "\u001b[0;32m<ipython-input-89-219e77c582c0>\u001b[0m in \u001b[0;36m<module>\u001b[0;34m()\u001b[0m\n\u001b[1;32m      6\u001b[0m \u001b[0;32mprint\u001b[0m\u001b[0;34m(\u001b[0m\u001b[0mB\u001b[0m\u001b[0;34m.\u001b[0m\u001b[0mshape\u001b[0m\u001b[0;34m)\u001b[0m\u001b[0;34m\u001b[0m\u001b[0m\n\u001b[1;32m      7\u001b[0m \u001b[0;34m\u001b[0m\u001b[0m\n\u001b[0;32m----> 8\u001b[0;31m \u001b[0mC\u001b[0m \u001b[0;34m=\u001b[0m \u001b[0mnp\u001b[0m\u001b[0;34m.\u001b[0m\u001b[0mhstack\u001b[0m\u001b[0;34m(\u001b[0m\u001b[0;34m(\u001b[0m\u001b[0mA\u001b[0m\u001b[0;34m,\u001b[0m \u001b[0mB\u001b[0m\u001b[0;34m)\u001b[0m\u001b[0;34m)\u001b[0m\u001b[0;34m;\u001b[0m\u001b[0;34m\u001b[0m\u001b[0m\n\u001b[0m\u001b[1;32m      9\u001b[0m \u001b[0;32mprint\u001b[0m\u001b[0;34m(\u001b[0m\u001b[0mC\u001b[0m\u001b[0;34m.\u001b[0m\u001b[0mshape\u001b[0m\u001b[0;34m)\u001b[0m\u001b[0;34m\u001b[0m\u001b[0m\n",
            "\u001b[0;32m/usr/local/lib/python2.7/site-packages/numpy/core/shape_base.pyc\u001b[0m in \u001b[0;36mhstack\u001b[0;34m(tup)\u001b[0m\n\u001b[1;32m    338\u001b[0m         \u001b[0;32mreturn\u001b[0m \u001b[0m_nx\u001b[0m\u001b[0;34m.\u001b[0m\u001b[0mconcatenate\u001b[0m\u001b[0;34m(\u001b[0m\u001b[0marrs\u001b[0m\u001b[0;34m,\u001b[0m \u001b[0;36m0\u001b[0m\u001b[0;34m)\u001b[0m\u001b[0;34m\u001b[0m\u001b[0m\n\u001b[1;32m    339\u001b[0m     \u001b[0;32melse\u001b[0m\u001b[0;34m:\u001b[0m\u001b[0;34m\u001b[0m\u001b[0m\n\u001b[0;32m--> 340\u001b[0;31m         \u001b[0;32mreturn\u001b[0m \u001b[0m_nx\u001b[0m\u001b[0;34m.\u001b[0m\u001b[0mconcatenate\u001b[0m\u001b[0;34m(\u001b[0m\u001b[0marrs\u001b[0m\u001b[0;34m,\u001b[0m \u001b[0;36m1\u001b[0m\u001b[0;34m)\u001b[0m\u001b[0;34m\u001b[0m\u001b[0m\n\u001b[0m\u001b[1;32m    341\u001b[0m \u001b[0;34m\u001b[0m\u001b[0m\n\u001b[1;32m    342\u001b[0m \u001b[0;34m\u001b[0m\u001b[0m\n",
            "\u001b[0;31mValueError\u001b[0m: all the input array dimensions except for the concatenation axis must match exactly"
          ]
        }
      ]
    },
    {
      "cell_type": "code",
      "metadata": {
        "id": "okmhEtyAcJgk",
        "outputId": "9e74f64b-dc64-4fe6-9ceb-2d139d8a02df"
      },
      "source": [
        "# 3D tensors\n",
        "A = np.random.rand(5,4,3);\n",
        "print(A.shape);\n",
        "\n",
        "B= np.random.rand(5,4,2);\n",
        "print(B.shape)\n",
        "\n",
        "C = np.hstack((A, B));\n",
        "print(C.shape)"
      ],
      "execution_count": null,
      "outputs": [
        {
          "output_type": "stream",
          "text": [
            "(5, 4, 3)\n",
            "(5, 4, 2)\n"
          ],
          "name": "stdout"
        },
        {
          "output_type": "error",
          "ename": "ValueError",
          "evalue": "all the input array dimensions except for the concatenation axis must match exactly",
          "traceback": [
            "\u001b[0;31m---------------------------------------------------------------------------\u001b[0m",
            "\u001b[0;31mValueError\u001b[0m                                Traceback (most recent call last)",
            "\u001b[0;32m<ipython-input-92-4695741ca48f>\u001b[0m in \u001b[0;36m<module>\u001b[0;34m()\u001b[0m\n\u001b[1;32m      6\u001b[0m \u001b[0;32mprint\u001b[0m\u001b[0;34m(\u001b[0m\u001b[0mB\u001b[0m\u001b[0;34m.\u001b[0m\u001b[0mshape\u001b[0m\u001b[0;34m)\u001b[0m\u001b[0;34m\u001b[0m\u001b[0m\n\u001b[1;32m      7\u001b[0m \u001b[0;34m\u001b[0m\u001b[0m\n\u001b[0;32m----> 8\u001b[0;31m \u001b[0mC\u001b[0m \u001b[0;34m=\u001b[0m \u001b[0mnp\u001b[0m\u001b[0;34m.\u001b[0m\u001b[0mhstack\u001b[0m\u001b[0;34m(\u001b[0m\u001b[0;34m(\u001b[0m\u001b[0mA\u001b[0m\u001b[0;34m,\u001b[0m \u001b[0mB\u001b[0m\u001b[0;34m)\u001b[0m\u001b[0;34m)\u001b[0m\u001b[0;34m;\u001b[0m\u001b[0;34m\u001b[0m\u001b[0m\n\u001b[0m\u001b[1;32m      9\u001b[0m \u001b[0;32mprint\u001b[0m\u001b[0;34m(\u001b[0m\u001b[0mC\u001b[0m\u001b[0;34m.\u001b[0m\u001b[0mshape\u001b[0m\u001b[0;34m)\u001b[0m\u001b[0;34m\u001b[0m\u001b[0m\n",
            "\u001b[0;32m/usr/local/lib/python2.7/site-packages/numpy/core/shape_base.pyc\u001b[0m in \u001b[0;36mhstack\u001b[0;34m(tup)\u001b[0m\n\u001b[1;32m    338\u001b[0m         \u001b[0;32mreturn\u001b[0m \u001b[0m_nx\u001b[0m\u001b[0;34m.\u001b[0m\u001b[0mconcatenate\u001b[0m\u001b[0;34m(\u001b[0m\u001b[0marrs\u001b[0m\u001b[0;34m,\u001b[0m \u001b[0;36m0\u001b[0m\u001b[0;34m)\u001b[0m\u001b[0;34m\u001b[0m\u001b[0m\n\u001b[1;32m    339\u001b[0m     \u001b[0;32melse\u001b[0m\u001b[0;34m:\u001b[0m\u001b[0;34m\u001b[0m\u001b[0m\n\u001b[0;32m--> 340\u001b[0;31m         \u001b[0;32mreturn\u001b[0m \u001b[0m_nx\u001b[0m\u001b[0;34m.\u001b[0m\u001b[0mconcatenate\u001b[0m\u001b[0;34m(\u001b[0m\u001b[0marrs\u001b[0m\u001b[0;34m,\u001b[0m \u001b[0;36m1\u001b[0m\u001b[0;34m)\u001b[0m\u001b[0;34m\u001b[0m\u001b[0m\n\u001b[0m\u001b[1;32m    341\u001b[0m \u001b[0;34m\u001b[0m\u001b[0m\n\u001b[1;32m    342\u001b[0m \u001b[0;34m\u001b[0m\u001b[0m\n",
            "\u001b[0;31mValueError\u001b[0m: all the input array dimensions except for the concatenation axis must match exactly"
          ]
        }
      ]
    },
    {
      "cell_type": "code",
      "metadata": {
        "id": "zqtHdHescJgm",
        "outputId": "55b701cb-faca-4257-8cd0-42e880b8adaf"
      },
      "source": [
        "# 3D tensors vstack\n",
        "A = np.random.rand(5,4,3); # (height, width, colors) in images\n",
        "print(A.shape);\n",
        "\n",
        "B= np.random.rand(2,4,3);\n",
        "print(B.shape)\n",
        "\n",
        "C = np.vstack((A, B));\n",
        "print(C.shape)"
      ],
      "execution_count": null,
      "outputs": [
        {
          "output_type": "stream",
          "text": [
            "(5, 4, 3)\n",
            "(2, 4, 3)\n",
            "(7, 4, 3)\n"
          ],
          "name": "stdout"
        }
      ]
    },
    {
      "cell_type": "markdown",
      "metadata": {
        "id": "XdoZFIBucJgp"
      },
      "source": [
        "#### Exercise: Achieve the above tranaomfrs using numpy.concatenate [https://numpy.org/doc/1.18/reference/generated/numpy.concatenate.html#numpy.concatenate]\n",
        "***********\n",
        "***********\n",
        "***********\n",
        "***********\n"
      ]
    },
    {
      "cell_type": "markdown",
      "metadata": {
        "id": "gr8lxBIlcJgq"
      },
      "source": [
        "### Problem-4: Find peaks/max in an list\n",
        "- problem definition\n"
      ]
    },
    {
      "cell_type": "code",
      "metadata": {
        "id": "fwMjTHRPcJgq",
        "outputId": "11646bb4-ea8d-4ee7-9f39-a71761366f34"
      },
      "source": [
        "\n",
        "A = [1,3,4,5,7,6,4,5,10,1];\n",
        "print(A)"
      ],
      "execution_count": null,
      "outputs": [
        {
          "output_type": "stream",
          "text": [
            "[1, 3, 4, 5, 7, 6, 4, 5, 10, 1]\n"
          ],
          "name": "stdout"
        }
      ]
    },
    {
      "cell_type": "code",
      "metadata": {
        "id": "61KZqLmscJgs",
        "outputId": "0a0c9b7e-3682-4588-fbf3-0df14e373cf4"
      },
      "source": [
        "# Peaks: 7,10\n",
        "# Peak: A[i-1] <= A[i] >= A[i+1]\n",
        "\n",
        "for i in range(1, A.size - 1): # 1 and -1 are important\n",
        "    if (A[i] >= A[i-1]) and (A[i] >= A[i+1]):\n",
        "        print(A[i]);"
      ],
      "execution_count": null,
      "outputs": [
        {
          "output_type": "error",
          "ename": "AttributeError",
          "evalue": "'list' object has no attribute 'size'",
          "traceback": [
            "\u001b[0;31m---------------------------------------------------------------------------\u001b[0m",
            "\u001b[0;31mAttributeError\u001b[0m                            Traceback (most recent call last)",
            "\u001b[0;32m<ipython-input-102-0fae074d0510>\u001b[0m in \u001b[0;36m<module>\u001b[0;34m()\u001b[0m\n\u001b[1;32m      2\u001b[0m \u001b[0;31m# Peak: A[i-1] <= A[i] >= A[i+1]\u001b[0m\u001b[0;34m\u001b[0m\u001b[0;34m\u001b[0m\u001b[0m\n\u001b[1;32m      3\u001b[0m \u001b[0;34m\u001b[0m\u001b[0m\n\u001b[0;32m----> 4\u001b[0;31m \u001b[0;32mfor\u001b[0m \u001b[0mi\u001b[0m \u001b[0;32min\u001b[0m \u001b[0mrange\u001b[0m\u001b[0;34m(\u001b[0m\u001b[0;36m1\u001b[0m\u001b[0;34m,\u001b[0m \u001b[0mA\u001b[0m\u001b[0;34m.\u001b[0m\u001b[0msize\u001b[0m \u001b[0;34m-\u001b[0m \u001b[0;36m1\u001b[0m\u001b[0;34m)\u001b[0m\u001b[0;34m:\u001b[0m \u001b[0;31m# 1 and -1 are important\u001b[0m\u001b[0;34m\u001b[0m\u001b[0m\n\u001b[0m\u001b[1;32m      5\u001b[0m     \u001b[0;32mif\u001b[0m \u001b[0;34m(\u001b[0m\u001b[0mA\u001b[0m\u001b[0;34m[\u001b[0m\u001b[0mi\u001b[0m\u001b[0;34m]\u001b[0m \u001b[0;34m>=\u001b[0m \u001b[0mA\u001b[0m\u001b[0;34m[\u001b[0m\u001b[0mi\u001b[0m\u001b[0;34m-\u001b[0m\u001b[0;36m1\u001b[0m\u001b[0;34m]\u001b[0m\u001b[0;34m)\u001b[0m \u001b[0;32mand\u001b[0m \u001b[0;34m(\u001b[0m\u001b[0mA\u001b[0m\u001b[0;34m[\u001b[0m\u001b[0mi\u001b[0m\u001b[0;34m]\u001b[0m \u001b[0;34m>=\u001b[0m \u001b[0mA\u001b[0m\u001b[0;34m[\u001b[0m\u001b[0mi\u001b[0m\u001b[0;34m+\u001b[0m\u001b[0;36m1\u001b[0m\u001b[0;34m]\u001b[0m\u001b[0;34m)\u001b[0m\u001b[0;34m:\u001b[0m\u001b[0;34m\u001b[0m\u001b[0m\n\u001b[1;32m      6\u001b[0m         \u001b[0;32mprint\u001b[0m \u001b[0mA\u001b[0m\u001b[0;34m[\u001b[0m\u001b[0mi\u001b[0m\u001b[0;34m]\u001b[0m\u001b[0;34m;\u001b[0m\u001b[0;34m\u001b[0m\u001b[0m\n",
            "\u001b[0;31mAttributeError\u001b[0m: 'list' object has no attribute 'size'"
          ]
        }
      ]
    },
    {
      "cell_type": "code",
      "metadata": {
        "id": "nbl3BYc6cJgu",
        "outputId": "fd403bd1-a0c8-4b50-ef9e-00371bf4c9b8"
      },
      "source": [
        "print(len(A));"
      ],
      "execution_count": null,
      "outputs": [
        {
          "output_type": "stream",
          "text": [
            "10\n"
          ],
          "name": "stdout"
        }
      ]
    },
    {
      "cell_type": "code",
      "metadata": {
        "id": "8j_9p6qpcJgy",
        "outputId": "0084c04b-9aae-4c98-c550-d5aa3cc5bafd"
      },
      "source": [
        "for i in range(1, len(A) - 1): # 1 and -1 are important\n",
        "    if (A[i] >= A[i-1]) and (A[i] >= A[i+1]):\n",
        "        print(A[i]);"
      ],
      "execution_count": null,
      "outputs": [
        {
          "output_type": "stream",
          "text": [
            "7\n",
            "10\n"
          ],
          "name": "stdout"
        }
      ]
    },
    {
      "cell_type": "code",
      "metadata": {
        "id": "nnysDo7zcJg0"
      },
      "source": [
        "# There is a bug in the above solution. Find it...\n"
      ],
      "execution_count": null,
      "outputs": []
    },
    {
      "cell_type": "code",
      "metadata": {
        "id": "d3ug7ZtVcJg3",
        "outputId": "086b5a66-e665-497d-b3b9-7d5635d30431"
      },
      "source": [
        "A = [11,3,4,5,7,6,4,5,10,15];\n",
        "\n",
        "for i in range(1, len(A) - 1): # 1 and -1 are important\n",
        "    if (A[i] >= A[i-1]) and (A[i] >= A[i+1]):\n",
        "        print(A[i]);"
      ],
      "execution_count": null,
      "outputs": [
        {
          "output_type": "stream",
          "text": [
            "7\n"
          ],
          "name": "stdout"
        }
      ]
    },
    {
      "cell_type": "code",
      "metadata": {
        "id": "o_XmrdE7cJg5"
      },
      "source": [
        "# what about 11 and 15?\n",
        "\n",
        "# boundary case\n",
        "if A[0] >= A[1]:\n",
        "    print(A[0])\n",
        "    \n",
        "for i in range(1, len(A) - 1): # 1 and -1 are important\n",
        "    if (A[i] >= A[i-1]) and (A[i] >= A[i+1]):\n",
        "        print(A[i]);\n",
        "\n",
        "# boundary case\n",
        "if A[len(A)-1] >= A[len(A)-2]:\n",
        "    print(A[len(A)-1])\n"
      ],
      "execution_count": null,
      "outputs": []
    },
    {
      "cell_type": "code",
      "metadata": {
        "id": "mqibD1kPcJg8"
      },
      "source": [
        "# LESSON: Donot forget boundary cases\n",
        "\n",
        "#Question: Time Complexity = ?"
      ],
      "execution_count": null,
      "outputs": []
    },
    {
      "cell_type": "markdown",
      "metadata": {
        "id": "GI6CHT71cJg-"
      },
      "source": [
        "#### Exercise: \n",
        "1. Find peaks which are max values in a window of size 2 on both sides.\n",
        "2. Use scipy.signal.find_peaks [https://docs.scipy.org/doc/scipy/reference/generated/scipy.signal.find_peaks.html]\n",
        "\n",
        "Additioanl reading: More efficient algos @ http://courses.csail.mit.edu/6.006/spring11/lectures/lec02.pdf"
      ]
    },
    {
      "cell_type": "markdown",
      "metadata": {
        "id": "UpYR-LCzcJg-"
      },
      "source": [
        "### Problem 5: Permutations of a list\n",
        "- Problem definition: lst = [1,2,3]"
      ]
    },
    {
      "cell_type": "code",
      "metadata": {
        "id": "CPgSk97NcJg_",
        "outputId": "01184a0c-d717-4e6e-81d3-5cf4983794f4"
      },
      "source": [
        "# Using libraries\n",
        "from itertools import permutations \n",
        "  \n",
        "p = permutations([1, 2, 3]) # refer: https://docs.python.org/3/library/itertools.html#itertools.permutations\n",
        "\n",
        "# what is an iterable in Python [https://www.pythonlikeyoumeanit.com/Module2_EssentialsOfPython/Iterables.html]\n",
        "\n",
        "# print the permutations\n",
        "for i in list(p): \n",
        "    print i "
      ],
      "execution_count": null,
      "outputs": [
        {
          "output_type": "stream",
          "text": [
            "(1, 2, 3)\n",
            "(1, 3, 2)\n",
            "(2, 1, 3)\n",
            "(2, 3, 1)\n",
            "(3, 1, 2)\n",
            "(3, 2, 1)\n"
          ],
          "name": "stdout"
        }
      ]
    },
    {
      "cell_type": "code",
      "metadata": {
        "id": "RgJI1K5ycJhA"
      },
      "source": [
        "# No fun!\n",
        "# Write your own code. Any suggestions?\n",
        "# Break the problem into smaller sub-problems"
      ],
      "execution_count": null,
      "outputs": []
    },
    {
      "cell_type": "code",
      "metadata": {
        "id": "0XoLHjHtcJhB",
        "outputId": "4c71bd44-52d2-4a8b-ba98-ecb7cc7836f2"
      },
      "source": [
        "[1,2,3]\n",
        "[1,3,2]\n",
        "[2,1,3]\n",
        "[2,3,1]\n",
        "[3,1,2]\n",
        "[3,2,1]"
      ],
      "execution_count": null,
      "outputs": [
        {
          "output_type": "execute_result",
          "data": {
            "text/plain": [
              "[3, 2, 1]"
            ]
          },
          "metadata": {
            "tags": []
          },
          "execution_count": 122
        }
      ]
    },
    {
      "cell_type": "code",
      "metadata": {
        "id": "2nJDQD1tcJhE",
        "outputId": "559bd73f-4fd7-4be0-9fb0-a979f4ff67aa"
      },
      "source": [
        "# source: https://stackoverflow.com/questions/13109274/python-recursion-permutations\n",
        "\n",
        "def permutation(s):\n",
        "   if len(s) == 1:\n",
        "     return [s]\n",
        "\n",
        "   perm_list = [] # resulting list\n",
        "   for a in s:\n",
        "     remaining_elements = [x for x in s if x != a]\n",
        "     z = permutation(remaining_elements) # permutations of sub-list\n",
        "\n",
        "     for t in z:\n",
        "       perm_list.append([a] + t)\n",
        "\n",
        "   return perm_list\n",
        "\n",
        "s = [1,2,3];\n",
        "p = permutation(s);\n",
        "print(p)"
      ],
      "execution_count": null,
      "outputs": [
        {
          "output_type": "stream",
          "text": [
            "[[1, 2, 3], [1, 3, 2], [2, 1, 3], [2, 3, 1], [3, 1, 2], [3, 2, 1]]\n"
          ],
          "name": "stdout"
        }
      ]
    },
    {
      "cell_type": "markdown",
      "metadata": {
        "id": "QgFZiOOVcJhG"
      },
      "source": [
        "#### Exercise: [Combinations] All possible ways to pick 3 elements out of 5 elements\n",
        "\n",
        "- HINT: Use recursion.\n",
        "- Google \"combinations in Python\""
      ]
    },
    {
      "cell_type": "markdown",
      "metadata": {
        "id": "0gTQgfn_cJhH"
      },
      "source": [
        "### Practice, practice and practice..\n",
        "\n",
        "- Optional  Assignments at AAIC: https://go.aws/2JrmV4A [Functions] , https://drive.google.com/file/d/1VB3wJSt_Mq0HLP9uaqgsZBR4BLMFnkmY/view [Pandas]\n",
        "\n",
        "- Basic Python: https://www.geeksforgeeks.org/python-programming-examples/\n",
        "- NumPy: https://www.w3resource.com/python-exercises/numpy/index.php\n"
      ]
    },
    {
      "cell_type": "code",
      "metadata": {
        "id": "ZWxJchcLcJhH"
      },
      "source": [
        ""
      ],
      "execution_count": null,
      "outputs": []
    }
  ]
}